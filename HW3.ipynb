{
  "cells": [
    {
      "cell_type": "markdown",
      "metadata": {
        "id": "PRXrUVEEawuh"
      },
      "source": [
        "# MAS DSE 200: Homework 3 - Matplotlib\n",
        "\n",
        "#### Tasks:\n",
        "\n",
        "- Introduction to Matplotlib.  \n",
        "  \n",
        "- Submission on Gradescope:\n",
        "  - Submit this Jupyter notebook to \"Homework 3\"\n",
        "\n",
        "#### Due date: Thursday, November 6, 2025, 11:59 PM\n",
        "\n",
        "---\n",
        "\n",
        "Remember: when in doubt, read the documentation first.\n",
        "\n",
        "Python - https://docs.python.org/3/\n",
        "\n",
        "NumPy - https://numpy.org/doc/stable/\n",
        "\n",
        "pandas - https://pandas.pydata.org/docs/\n",
        "\n",
        "matplotlib - https://matplotlib.org/stable/contents.html\n",
        "\n",
        "seaborn - https://seaborn.pydata.org/api.html"
      ]
    },
    {
      "cell_type": "markdown",
      "metadata": {
        "id": "gZaxKVVJawuj"
      },
      "source": [
        "## Instructions\n",
        "\n",
        "* You don’t need to explain your approach (unless specified) so please be concise in your submission.\n",
        "* To obtain full marks for a question, both the answer and the code should be correct.\n",
        "* Completely wrong (or missing) code with correct answer will result in zero marks."
      ]
    },
    {
      "cell_type": "markdown",
      "metadata": {
        "id": "T5mJX8x4awuj"
      },
      "source": [
        "### Imports"
      ]
    },
    {
      "cell_type": "code",
      "execution_count": 1,
      "metadata": {
        "colab": {
          "base_uri": "https://localhost:8080/"
        },
        "id": "WssM1vnRawuj",
        "outputId": "4032fa66-9425-413e-8a15-d53f4628727f"
      },
      "outputs": [
        {
          "output_type": "stream",
          "name": "stdout",
          "text": [
            "Requirement already satisfied: pandas in /usr/local/lib/python3.12/dist-packages (2.2.2)\n",
            "Requirement already satisfied: numpy in /usr/local/lib/python3.12/dist-packages (2.0.2)\n",
            "Requirement already satisfied: matplotlib in /usr/local/lib/python3.12/dist-packages (3.10.0)\n",
            "Requirement already satisfied: seaborn in /usr/local/lib/python3.12/dist-packages (0.13.2)\n",
            "Requirement already satisfied: scikit-learn in /usr/local/lib/python3.12/dist-packages (1.6.1)\n",
            "Requirement already satisfied: python-dateutil>=2.8.2 in /usr/local/lib/python3.12/dist-packages (from pandas) (2.9.0.post0)\n",
            "Requirement already satisfied: pytz>=2020.1 in /usr/local/lib/python3.12/dist-packages (from pandas) (2025.2)\n",
            "Requirement already satisfied: tzdata>=2022.7 in /usr/local/lib/python3.12/dist-packages (from pandas) (2025.2)\n",
            "Requirement already satisfied: contourpy>=1.0.1 in /usr/local/lib/python3.12/dist-packages (from matplotlib) (1.3.3)\n",
            "Requirement already satisfied: cycler>=0.10 in /usr/local/lib/python3.12/dist-packages (from matplotlib) (0.12.1)\n",
            "Requirement already satisfied: fonttools>=4.22.0 in /usr/local/lib/python3.12/dist-packages (from matplotlib) (4.60.1)\n",
            "Requirement already satisfied: kiwisolver>=1.3.1 in /usr/local/lib/python3.12/dist-packages (from matplotlib) (1.4.9)\n",
            "Requirement already satisfied: packaging>=20.0 in /usr/local/lib/python3.12/dist-packages (from matplotlib) (25.0)\n",
            "Requirement already satisfied: pillow>=8 in /usr/local/lib/python3.12/dist-packages (from matplotlib) (11.3.0)\n",
            "Requirement already satisfied: pyparsing>=2.3.1 in /usr/local/lib/python3.12/dist-packages (from matplotlib) (3.2.5)\n",
            "Requirement already satisfied: scipy>=1.6.0 in /usr/local/lib/python3.12/dist-packages (from scikit-learn) (1.16.2)\n",
            "Requirement already satisfied: joblib>=1.2.0 in /usr/local/lib/python3.12/dist-packages (from scikit-learn) (1.5.2)\n",
            "Requirement already satisfied: threadpoolctl>=3.1.0 in /usr/local/lib/python3.12/dist-packages (from scikit-learn) (3.6.0)\n",
            "Requirement already satisfied: six>=1.5 in /usr/local/lib/python3.12/dist-packages (from python-dateutil>=2.8.2->pandas) (1.17.0)\n"
          ]
        }
      ],
      "source": [
        "%pip install pandas numpy matplotlib seaborn scikit-learn"
      ]
    },
    {
      "cell_type": "code",
      "execution_count": 2,
      "metadata": {
        "id": "GaoVTkFBawuk"
      },
      "outputs": [],
      "source": [
        "import pandas as pd\n",
        "import numpy as np\n",
        "import random\n",
        "import os\n",
        "import requests\n",
        "import matplotlib.pyplot as plt\n",
        "import seaborn as sns"
      ]
    },
    {
      "cell_type": "markdown",
      "metadata": {
        "id": "iWomFgnXawuk"
      },
      "source": [
        "### Preliminaries\n",
        "\n",
        "Load the cars data into a Pandas DataFrame called cars_df."
      ]
    },
    {
      "cell_type": "code",
      "execution_count": 3,
      "metadata": {
        "id": "rcqlJzd8awuk"
      },
      "outputs": [],
      "source": [
        "thePath = \"./\" #check the current directory/folder\n",
        "theFile = 'cars.csv'\n",
        "theLink = \"https://dse200.dev/Day3/cars.csv\"\n",
        "\n",
        "if not os.path.exists(thePath + theFile):\n",
        "    r = requests.get(theLink)\n",
        "    with open(thePath + theFile, 'wb') as f:\n",
        "        f.write(r.content)\n",
        "\n",
        "#cars_df = pd.read_csv('cars.csv')"
      ]
    },
    {
      "cell_type": "code",
      "source": [
        "thePath = \"./\" # save to this directory\n",
        "theFile = 'cars.csv' # name the file\n",
        "theLink = \"https://dse200.dev/Day3/cars.csv\" # web location for file\n",
        "\n",
        "# os python module for navigating directory, paths is to check a direction and exists see if it's there\n",
        "if not os.path.exists(thePath + theFile): # if the file doesn't exists in this path\n",
        "  r = requests.get(theLink) # define variable for reaching out to this location\n",
        "  with open(thePath + theFile, 'wb') as f: # open a new file in this directory named how we wanted then then close it after moving on from the block of code (automatically). name the file as f. wb = write binary\n",
        "    f.write(r.content) #take the content we got from r and write it to the file\n",
        "cars_df = pd.read_csv('cars.csv')\n",
        "cars_df.head(5)"
      ],
      "metadata": {
        "colab": {
          "base_uri": "https://localhost:8080/",
          "height": 417
        },
        "id": "6XT2E40Yjg1u",
        "outputId": "a7f7533e-7475-493d-b391-384d29042bfd"
      },
      "execution_count": 4,
      "outputs": [
        {
          "output_type": "execute_result",
          "data": {
            "text/plain": [
              "   Dimensions.Height  Dimensions.Length  Dimensions.Width  \\\n",
              "0                140                143               202   \n",
              "1                140                143               202   \n",
              "2                140                143               202   \n",
              "3                140                143               202   \n",
              "4                140                143               202   \n",
              "\n",
              "  Engine Information.Driveline                Engine Information.Engine Type  \\\n",
              "0              All-wheel drive          Audi 3.2L 6 cylinder 250hp 236ft-lbs   \n",
              "1            Front-wheel drive  Audi 2.0L 4 cylinder 200 hp 207 ft-lbs Turbo   \n",
              "2            Front-wheel drive  Audi 2.0L 4 cylinder 200 hp 207 ft-lbs Turbo   \n",
              "3              All-wheel drive  Audi 2.0L 4 cylinder 200 hp 207 ft-lbs Turbo   \n",
              "4              All-wheel drive  Audi 2.0L 4 cylinder 200 hp 207 ft-lbs Turbo   \n",
              "\n",
              "   Engine Information.Hybrid  Engine Information.Number of Forward Gears  \\\n",
              "0                       True                                           6   \n",
              "1                       True                                           6   \n",
              "2                       True                                           6   \n",
              "3                       True                                           6   \n",
              "4                       True                                           6   \n",
              "\n",
              "  Engine Information.Transmission  Fuel Information.City mpg  \\\n",
              "0  6 Speed Automatic Select Shift                         18   \n",
              "1  6 Speed Automatic Select Shift                         22   \n",
              "2                  6 Speed Manual                         21   \n",
              "3  6 Speed Automatic Select Shift                         21   \n",
              "4  6 Speed Automatic Select Shift                         21   \n",
              "\n",
              "  Fuel Information.Fuel Type  Fuel Information.Highway mpg  \\\n",
              "0                   Gasoline                            25   \n",
              "1                   Gasoline                            28   \n",
              "2                   Gasoline                            30   \n",
              "3                   Gasoline                            28   \n",
              "4                   Gasoline                            28   \n",
              "\n",
              "  Identification.Classification           Identification.ID  \\\n",
              "0        Automatic transmission            2009 Audi A3 3.2   \n",
              "1        Automatic transmission       2009 Audi A3 2.0 T AT   \n",
              "2           Manual transmission          2009 Audi A3 2.0 T   \n",
              "3        Automatic transmission  2009 Audi A3 2.0 T Quattro   \n",
              "4        Automatic transmission  2009 Audi A3 2.0 T Quattro   \n",
              "\n",
              "  Identification.Make Identification.Model Year  Identification.Year  \\\n",
              "0                Audi              2009 Audi A3                 2009   \n",
              "1                Audi              2009 Audi A3                 2009   \n",
              "2                Audi              2009 Audi A3                 2009   \n",
              "3                Audi              2009 Audi A3                 2009   \n",
              "4                Audi              2009 Audi A3                 2009   \n",
              "\n",
              "   Engine Information.Engine Statistics.Horsepower  \\\n",
              "0                                              250   \n",
              "1                                              200   \n",
              "2                                              200   \n",
              "3                                              200   \n",
              "4                                              200   \n",
              "\n",
              "   Engine Information.Engine Statistics.Torque  \n",
              "0                                          236  \n",
              "1                                          207  \n",
              "2                                          207  \n",
              "3                                          207  \n",
              "4                                          207  "
            ],
            "text/html": [
              "\n",
              "  <div id=\"df-05d7ff5a-5d1f-4ce6-9300-dc9c493c3d7e\" class=\"colab-df-container\">\n",
              "    <div>\n",
              "<style scoped>\n",
              "    .dataframe tbody tr th:only-of-type {\n",
              "        vertical-align: middle;\n",
              "    }\n",
              "\n",
              "    .dataframe tbody tr th {\n",
              "        vertical-align: top;\n",
              "    }\n",
              "\n",
              "    .dataframe thead th {\n",
              "        text-align: right;\n",
              "    }\n",
              "</style>\n",
              "<table border=\"1\" class=\"dataframe\">\n",
              "  <thead>\n",
              "    <tr style=\"text-align: right;\">\n",
              "      <th></th>\n",
              "      <th>Dimensions.Height</th>\n",
              "      <th>Dimensions.Length</th>\n",
              "      <th>Dimensions.Width</th>\n",
              "      <th>Engine Information.Driveline</th>\n",
              "      <th>Engine Information.Engine Type</th>\n",
              "      <th>Engine Information.Hybrid</th>\n",
              "      <th>Engine Information.Number of Forward Gears</th>\n",
              "      <th>Engine Information.Transmission</th>\n",
              "      <th>Fuel Information.City mpg</th>\n",
              "      <th>Fuel Information.Fuel Type</th>\n",
              "      <th>Fuel Information.Highway mpg</th>\n",
              "      <th>Identification.Classification</th>\n",
              "      <th>Identification.ID</th>\n",
              "      <th>Identification.Make</th>\n",
              "      <th>Identification.Model Year</th>\n",
              "      <th>Identification.Year</th>\n",
              "      <th>Engine Information.Engine Statistics.Horsepower</th>\n",
              "      <th>Engine Information.Engine Statistics.Torque</th>\n",
              "    </tr>\n",
              "  </thead>\n",
              "  <tbody>\n",
              "    <tr>\n",
              "      <th>0</th>\n",
              "      <td>140</td>\n",
              "      <td>143</td>\n",
              "      <td>202</td>\n",
              "      <td>All-wheel drive</td>\n",
              "      <td>Audi 3.2L 6 cylinder 250hp 236ft-lbs</td>\n",
              "      <td>True</td>\n",
              "      <td>6</td>\n",
              "      <td>6 Speed Automatic Select Shift</td>\n",
              "      <td>18</td>\n",
              "      <td>Gasoline</td>\n",
              "      <td>25</td>\n",
              "      <td>Automatic transmission</td>\n",
              "      <td>2009 Audi A3 3.2</td>\n",
              "      <td>Audi</td>\n",
              "      <td>2009 Audi A3</td>\n",
              "      <td>2009</td>\n",
              "      <td>250</td>\n",
              "      <td>236</td>\n",
              "    </tr>\n",
              "    <tr>\n",
              "      <th>1</th>\n",
              "      <td>140</td>\n",
              "      <td>143</td>\n",
              "      <td>202</td>\n",
              "      <td>Front-wheel drive</td>\n",
              "      <td>Audi 2.0L 4 cylinder 200 hp 207 ft-lbs Turbo</td>\n",
              "      <td>True</td>\n",
              "      <td>6</td>\n",
              "      <td>6 Speed Automatic Select Shift</td>\n",
              "      <td>22</td>\n",
              "      <td>Gasoline</td>\n",
              "      <td>28</td>\n",
              "      <td>Automatic transmission</td>\n",
              "      <td>2009 Audi A3 2.0 T AT</td>\n",
              "      <td>Audi</td>\n",
              "      <td>2009 Audi A3</td>\n",
              "      <td>2009</td>\n",
              "      <td>200</td>\n",
              "      <td>207</td>\n",
              "    </tr>\n",
              "    <tr>\n",
              "      <th>2</th>\n",
              "      <td>140</td>\n",
              "      <td>143</td>\n",
              "      <td>202</td>\n",
              "      <td>Front-wheel drive</td>\n",
              "      <td>Audi 2.0L 4 cylinder 200 hp 207 ft-lbs Turbo</td>\n",
              "      <td>True</td>\n",
              "      <td>6</td>\n",
              "      <td>6 Speed Manual</td>\n",
              "      <td>21</td>\n",
              "      <td>Gasoline</td>\n",
              "      <td>30</td>\n",
              "      <td>Manual transmission</td>\n",
              "      <td>2009 Audi A3 2.0 T</td>\n",
              "      <td>Audi</td>\n",
              "      <td>2009 Audi A3</td>\n",
              "      <td>2009</td>\n",
              "      <td>200</td>\n",
              "      <td>207</td>\n",
              "    </tr>\n",
              "    <tr>\n",
              "      <th>3</th>\n",
              "      <td>140</td>\n",
              "      <td>143</td>\n",
              "      <td>202</td>\n",
              "      <td>All-wheel drive</td>\n",
              "      <td>Audi 2.0L 4 cylinder 200 hp 207 ft-lbs Turbo</td>\n",
              "      <td>True</td>\n",
              "      <td>6</td>\n",
              "      <td>6 Speed Automatic Select Shift</td>\n",
              "      <td>21</td>\n",
              "      <td>Gasoline</td>\n",
              "      <td>28</td>\n",
              "      <td>Automatic transmission</td>\n",
              "      <td>2009 Audi A3 2.0 T Quattro</td>\n",
              "      <td>Audi</td>\n",
              "      <td>2009 Audi A3</td>\n",
              "      <td>2009</td>\n",
              "      <td>200</td>\n",
              "      <td>207</td>\n",
              "    </tr>\n",
              "    <tr>\n",
              "      <th>4</th>\n",
              "      <td>140</td>\n",
              "      <td>143</td>\n",
              "      <td>202</td>\n",
              "      <td>All-wheel drive</td>\n",
              "      <td>Audi 2.0L 4 cylinder 200 hp 207 ft-lbs Turbo</td>\n",
              "      <td>True</td>\n",
              "      <td>6</td>\n",
              "      <td>6 Speed Automatic Select Shift</td>\n",
              "      <td>21</td>\n",
              "      <td>Gasoline</td>\n",
              "      <td>28</td>\n",
              "      <td>Automatic transmission</td>\n",
              "      <td>2009 Audi A3 2.0 T Quattro</td>\n",
              "      <td>Audi</td>\n",
              "      <td>2009 Audi A3</td>\n",
              "      <td>2009</td>\n",
              "      <td>200</td>\n",
              "      <td>207</td>\n",
              "    </tr>\n",
              "  </tbody>\n",
              "</table>\n",
              "</div>\n",
              "    <div class=\"colab-df-buttons\">\n",
              "\n",
              "  <div class=\"colab-df-container\">\n",
              "    <button class=\"colab-df-convert\" onclick=\"convertToInteractive('df-05d7ff5a-5d1f-4ce6-9300-dc9c493c3d7e')\"\n",
              "            title=\"Convert this dataframe to an interactive table.\"\n",
              "            style=\"display:none;\">\n",
              "\n",
              "  <svg xmlns=\"http://www.w3.org/2000/svg\" height=\"24px\" viewBox=\"0 -960 960 960\">\n",
              "    <path d=\"M120-120v-720h720v720H120Zm60-500h600v-160H180v160Zm220 220h160v-160H400v160Zm0 220h160v-160H400v160ZM180-400h160v-160H180v160Zm440 0h160v-160H620v160ZM180-180h160v-160H180v160Zm440 0h160v-160H620v160Z\"/>\n",
              "  </svg>\n",
              "    </button>\n",
              "\n",
              "  <style>\n",
              "    .colab-df-container {\n",
              "      display:flex;\n",
              "      gap: 12px;\n",
              "    }\n",
              "\n",
              "    .colab-df-convert {\n",
              "      background-color: #E8F0FE;\n",
              "      border: none;\n",
              "      border-radius: 50%;\n",
              "      cursor: pointer;\n",
              "      display: none;\n",
              "      fill: #1967D2;\n",
              "      height: 32px;\n",
              "      padding: 0 0 0 0;\n",
              "      width: 32px;\n",
              "    }\n",
              "\n",
              "    .colab-df-convert:hover {\n",
              "      background-color: #E2EBFA;\n",
              "      box-shadow: 0px 1px 2px rgba(60, 64, 67, 0.3), 0px 1px 3px 1px rgba(60, 64, 67, 0.15);\n",
              "      fill: #174EA6;\n",
              "    }\n",
              "\n",
              "    .colab-df-buttons div {\n",
              "      margin-bottom: 4px;\n",
              "    }\n",
              "\n",
              "    [theme=dark] .colab-df-convert {\n",
              "      background-color: #3B4455;\n",
              "      fill: #D2E3FC;\n",
              "    }\n",
              "\n",
              "    [theme=dark] .colab-df-convert:hover {\n",
              "      background-color: #434B5C;\n",
              "      box-shadow: 0px 1px 3px 1px rgba(0, 0, 0, 0.15);\n",
              "      filter: drop-shadow(0px 1px 2px rgba(0, 0, 0, 0.3));\n",
              "      fill: #FFFFFF;\n",
              "    }\n",
              "  </style>\n",
              "\n",
              "    <script>\n",
              "      const buttonEl =\n",
              "        document.querySelector('#df-05d7ff5a-5d1f-4ce6-9300-dc9c493c3d7e button.colab-df-convert');\n",
              "      buttonEl.style.display =\n",
              "        google.colab.kernel.accessAllowed ? 'block' : 'none';\n",
              "\n",
              "      async function convertToInteractive(key) {\n",
              "        const element = document.querySelector('#df-05d7ff5a-5d1f-4ce6-9300-dc9c493c3d7e');\n",
              "        const dataTable =\n",
              "          await google.colab.kernel.invokeFunction('convertToInteractive',\n",
              "                                                    [key], {});\n",
              "        if (!dataTable) return;\n",
              "\n",
              "        const docLinkHtml = 'Like what you see? Visit the ' +\n",
              "          '<a target=\"_blank\" href=https://colab.research.google.com/notebooks/data_table.ipynb>data table notebook</a>'\n",
              "          + ' to learn more about interactive tables.';\n",
              "        element.innerHTML = '';\n",
              "        dataTable['output_type'] = 'display_data';\n",
              "        await google.colab.output.renderOutput(dataTable, element);\n",
              "        const docLink = document.createElement('div');\n",
              "        docLink.innerHTML = docLinkHtml;\n",
              "        element.appendChild(docLink);\n",
              "      }\n",
              "    </script>\n",
              "  </div>\n",
              "\n",
              "\n",
              "    <div id=\"df-6c8309c7-ff92-4def-9564-fbf22b643920\">\n",
              "      <button class=\"colab-df-quickchart\" onclick=\"quickchart('df-6c8309c7-ff92-4def-9564-fbf22b643920')\"\n",
              "                title=\"Suggest charts\"\n",
              "                style=\"display:none;\">\n",
              "\n",
              "<svg xmlns=\"http://www.w3.org/2000/svg\" height=\"24px\"viewBox=\"0 0 24 24\"\n",
              "     width=\"24px\">\n",
              "    <g>\n",
              "        <path d=\"M19 3H5c-1.1 0-2 .9-2 2v14c0 1.1.9 2 2 2h14c1.1 0 2-.9 2-2V5c0-1.1-.9-2-2-2zM9 17H7v-7h2v7zm4 0h-2V7h2v10zm4 0h-2v-4h2v4z\"/>\n",
              "    </g>\n",
              "</svg>\n",
              "      </button>\n",
              "\n",
              "<style>\n",
              "  .colab-df-quickchart {\n",
              "      --bg-color: #E8F0FE;\n",
              "      --fill-color: #1967D2;\n",
              "      --hover-bg-color: #E2EBFA;\n",
              "      --hover-fill-color: #174EA6;\n",
              "      --disabled-fill-color: #AAA;\n",
              "      --disabled-bg-color: #DDD;\n",
              "  }\n",
              "\n",
              "  [theme=dark] .colab-df-quickchart {\n",
              "      --bg-color: #3B4455;\n",
              "      --fill-color: #D2E3FC;\n",
              "      --hover-bg-color: #434B5C;\n",
              "      --hover-fill-color: #FFFFFF;\n",
              "      --disabled-bg-color: #3B4455;\n",
              "      --disabled-fill-color: #666;\n",
              "  }\n",
              "\n",
              "  .colab-df-quickchart {\n",
              "    background-color: var(--bg-color);\n",
              "    border: none;\n",
              "    border-radius: 50%;\n",
              "    cursor: pointer;\n",
              "    display: none;\n",
              "    fill: var(--fill-color);\n",
              "    height: 32px;\n",
              "    padding: 0;\n",
              "    width: 32px;\n",
              "  }\n",
              "\n",
              "  .colab-df-quickchart:hover {\n",
              "    background-color: var(--hover-bg-color);\n",
              "    box-shadow: 0 1px 2px rgba(60, 64, 67, 0.3), 0 1px 3px 1px rgba(60, 64, 67, 0.15);\n",
              "    fill: var(--button-hover-fill-color);\n",
              "  }\n",
              "\n",
              "  .colab-df-quickchart-complete:disabled,\n",
              "  .colab-df-quickchart-complete:disabled:hover {\n",
              "    background-color: var(--disabled-bg-color);\n",
              "    fill: var(--disabled-fill-color);\n",
              "    box-shadow: none;\n",
              "  }\n",
              "\n",
              "  .colab-df-spinner {\n",
              "    border: 2px solid var(--fill-color);\n",
              "    border-color: transparent;\n",
              "    border-bottom-color: var(--fill-color);\n",
              "    animation:\n",
              "      spin 1s steps(1) infinite;\n",
              "  }\n",
              "\n",
              "  @keyframes spin {\n",
              "    0% {\n",
              "      border-color: transparent;\n",
              "      border-bottom-color: var(--fill-color);\n",
              "      border-left-color: var(--fill-color);\n",
              "    }\n",
              "    20% {\n",
              "      border-color: transparent;\n",
              "      border-left-color: var(--fill-color);\n",
              "      border-top-color: var(--fill-color);\n",
              "    }\n",
              "    30% {\n",
              "      border-color: transparent;\n",
              "      border-left-color: var(--fill-color);\n",
              "      border-top-color: var(--fill-color);\n",
              "      border-right-color: var(--fill-color);\n",
              "    }\n",
              "    40% {\n",
              "      border-color: transparent;\n",
              "      border-right-color: var(--fill-color);\n",
              "      border-top-color: var(--fill-color);\n",
              "    }\n",
              "    60% {\n",
              "      border-color: transparent;\n",
              "      border-right-color: var(--fill-color);\n",
              "    }\n",
              "    80% {\n",
              "      border-color: transparent;\n",
              "      border-right-color: var(--fill-color);\n",
              "      border-bottom-color: var(--fill-color);\n",
              "    }\n",
              "    90% {\n",
              "      border-color: transparent;\n",
              "      border-bottom-color: var(--fill-color);\n",
              "    }\n",
              "  }\n",
              "</style>\n",
              "\n",
              "      <script>\n",
              "        async function quickchart(key) {\n",
              "          const quickchartButtonEl =\n",
              "            document.querySelector('#' + key + ' button');\n",
              "          quickchartButtonEl.disabled = true;  // To prevent multiple clicks.\n",
              "          quickchartButtonEl.classList.add('colab-df-spinner');\n",
              "          try {\n",
              "            const charts = await google.colab.kernel.invokeFunction(\n",
              "                'suggestCharts', [key], {});\n",
              "          } catch (error) {\n",
              "            console.error('Error during call to suggestCharts:', error);\n",
              "          }\n",
              "          quickchartButtonEl.classList.remove('colab-df-spinner');\n",
              "          quickchartButtonEl.classList.add('colab-df-quickchart-complete');\n",
              "        }\n",
              "        (() => {\n",
              "          let quickchartButtonEl =\n",
              "            document.querySelector('#df-6c8309c7-ff92-4def-9564-fbf22b643920 button');\n",
              "          quickchartButtonEl.style.display =\n",
              "            google.colab.kernel.accessAllowed ? 'block' : 'none';\n",
              "        })();\n",
              "      </script>\n",
              "    </div>\n",
              "\n",
              "    </div>\n",
              "  </div>\n"
            ],
            "application/vnd.google.colaboratory.intrinsic+json": {
              "type": "dataframe",
              "variable_name": "cars_df",
              "summary": "{\n  \"name\": \"cars_df\",\n  \"rows\": 5076,\n  \"fields\": [\n    {\n      \"column\": \"Dimensions.Height\",\n      \"properties\": {\n        \"dtype\": \"number\",\n        \"std\": 62,\n        \"min\": 1,\n        \"max\": 255,\n        \"num_unique_values\": 198,\n        \"samples\": [\n          88,\n          231,\n          167\n        ],\n        \"semantic_type\": \"\",\n        \"description\": \"\"\n      }\n    },\n    {\n      \"column\": \"Dimensions.Length\",\n      \"properties\": {\n        \"dtype\": \"number\",\n        \"std\": 77,\n        \"min\": 2,\n        \"max\": 255,\n        \"num_unique_values\": 208,\n        \"samples\": [\n          141,\n          155,\n          28\n        ],\n        \"semantic_type\": \"\",\n        \"description\": \"\"\n      }\n    },\n    {\n      \"column\": \"Dimensions.Width\",\n      \"properties\": {\n        \"dtype\": \"number\",\n        \"std\": 79,\n        \"min\": 1,\n        \"max\": 254,\n        \"num_unique_values\": 138,\n        \"samples\": [\n          217,\n          59,\n          247\n        ],\n        \"semantic_type\": \"\",\n        \"description\": \"\"\n      }\n    },\n    {\n      \"column\": \"Engine Information.Driveline\",\n      \"properties\": {\n        \"dtype\": \"category\",\n        \"num_unique_values\": 4,\n        \"samples\": [\n          \"Front-wheel drive\",\n          \"Four-wheel drive\",\n          \"All-wheel drive\"\n        ],\n        \"semantic_type\": \"\",\n        \"description\": \"\"\n      }\n    },\n    {\n      \"column\": \"Engine Information.Engine Type\",\n      \"properties\": {\n        \"dtype\": \"category\",\n        \"num_unique_values\": 535,\n        \"samples\": [\n          \"Honda 2.0L 4 Cyinder 197 hp 139 ft-lbs\",\n          \"Kia 2.0L 4 Cylinder 142 hp 137 ft-lbs\",\n          \"Ford 2.0L 4 Cylinder 240 hp 270 ft-lbs Turbo\"\n        ],\n        \"semantic_type\": \"\",\n        \"description\": \"\"\n      }\n    },\n    {\n      \"column\": \"Engine Information.Hybrid\",\n      \"properties\": {\n        \"dtype\": \"boolean\",\n        \"num_unique_values\": 1,\n        \"samples\": [\n          true\n        ],\n        \"semantic_type\": \"\",\n        \"description\": \"\"\n      }\n    },\n    {\n      \"column\": \"Engine Information.Number of Forward Gears\",\n      \"properties\": {\n        \"dtype\": \"number\",\n        \"std\": 0,\n        \"min\": 4,\n        \"max\": 8,\n        \"num_unique_values\": 5,\n        \"samples\": [\n          5\n        ],\n        \"semantic_type\": \"\",\n        \"description\": \"\"\n      }\n    },\n    {\n      \"column\": \"Engine Information.Transmission\",\n      \"properties\": {\n        \"dtype\": \"category\",\n        \"num_unique_values\": 11,\n        \"samples\": [\n          \"5 Speed Automatic\"\n        ],\n        \"semantic_type\": \"\",\n        \"description\": \"\"\n      }\n    },\n    {\n      \"column\": \"Fuel Information.City mpg\",\n      \"properties\": {\n        \"dtype\": \"number\",\n        \"std\": 4,\n        \"min\": 8,\n        \"max\": 38,\n        \"num_unique_values\": 27,\n        \"samples\": [\n          12\n        ],\n        \"semantic_type\": \"\",\n        \"description\": \"\"\n      }\n    },\n    {\n      \"column\": \"Fuel Information.Fuel Type\",\n      \"properties\": {\n        \"dtype\": \"category\",\n        \"num_unique_values\": 4,\n        \"samples\": [\n          \"E85\"\n        ],\n        \"semantic_type\": \"\",\n        \"description\": \"\"\n      }\n    },\n    {\n      \"column\": \"Fuel Information.Highway mpg\",\n      \"properties\": {\n        \"dtype\": \"number\",\n        \"std\": 6,\n        \"min\": 11,\n        \"max\": 223,\n        \"num_unique_values\": 34,\n        \"samples\": [\n          24\n        ],\n        \"semantic_type\": \"\",\n        \"description\": \"\"\n      }\n    },\n    {\n      \"column\": \"Identification.Classification\",\n      \"properties\": {\n        \"dtype\": \"category\",\n        \"num_unique_values\": 2,\n        \"samples\": [\n          \"Manual transmission\"\n        ],\n        \"semantic_type\": \"\",\n        \"description\": \"\"\n      }\n    },\n    {\n      \"column\": \"Identification.ID\",\n      \"properties\": {\n        \"dtype\": \"string\",\n        \"num_unique_values\": 5030,\n        \"samples\": [\n          \"2010 Buick Lacrosse CXS\"\n        ],\n        \"semantic_type\": \"\",\n        \"description\": \"\"\n      }\n    },\n    {\n      \"column\": \"Identification.Make\",\n      \"properties\": {\n        \"dtype\": \"category\",\n        \"num_unique_values\": 47,\n        \"samples\": [\n          \"Lincoln\"\n        ],\n        \"semantic_type\": \"\",\n        \"description\": \"\"\n      }\n    },\n    {\n      \"column\": \"Identification.Model Year\",\n      \"properties\": {\n        \"dtype\": \"category\",\n        \"num_unique_values\": 918,\n        \"samples\": [\n          \"2011 Mercury Grand Marquis\"\n        ],\n        \"semantic_type\": \"\",\n        \"description\": \"\"\n      }\n    },\n    {\n      \"column\": \"Identification.Year\",\n      \"properties\": {\n        \"dtype\": \"number\",\n        \"std\": 0,\n        \"min\": 2009,\n        \"max\": 2012,\n        \"num_unique_values\": 4,\n        \"samples\": [\n          2012\n        ],\n        \"semantic_type\": \"\",\n        \"description\": \"\"\n      }\n    },\n    {\n      \"column\": \"Engine Information.Engine Statistics.Horsepower\",\n      \"properties\": {\n        \"dtype\": \"number\",\n        \"std\": 95,\n        \"min\": 100,\n        \"max\": 638,\n        \"num_unique_values\": 216,\n        \"samples\": [\n          204\n        ],\n        \"semantic_type\": \"\",\n        \"description\": \"\"\n      }\n    },\n    {\n      \"column\": \"Engine Information.Engine Statistics.Torque\",\n      \"properties\": {\n        \"dtype\": \"number\",\n        \"std\": 100,\n        \"min\": 98,\n        \"max\": 774,\n        \"num_unique_values\": 217,\n        \"samples\": [\n          277\n        ],\n        \"semantic_type\": \"\",\n        \"description\": \"\"\n      }\n    }\n  ]\n}"
            }
          },
          "metadata": {},
          "execution_count": 4
        }
      ]
    },
    {
      "cell_type": "code",
      "execution_count": 5,
      "metadata": {
        "colab": {
          "base_uri": "https://localhost:8080/"
        },
        "id": "0wZ6471pawuk",
        "outputId": "738bae1f-9fcd-452f-c6b2-b6fc8f4ea700"
      },
      "outputs": [
        {
          "output_type": "execute_result",
          "data": {
            "text/plain": [
              "5076"
            ]
          },
          "metadata": {},
          "execution_count": 5
        }
      ],
      "source": [
        "len(cars_df)"
      ]
    },
    {
      "cell_type": "code",
      "execution_count": 6,
      "metadata": {
        "colab": {
          "base_uri": "https://localhost:8080/",
          "height": 153
        },
        "id": "oO6kedJqawul",
        "outputId": "37b03101-cc48-45b2-b063-4bceb9371dda"
      },
      "outputs": [
        {
          "output_type": "execute_result",
          "data": {
            "text/plain": [
              "   Dimensions.Height  Dimensions.Length  Dimensions.Width  \\\n",
              "0                140                143               202   \n",
              "\n",
              "  Engine Information.Driveline        Engine Information.Engine Type  \\\n",
              "0              All-wheel drive  Audi 3.2L 6 cylinder 250hp 236ft-lbs   \n",
              "\n",
              "   Engine Information.Hybrid  Engine Information.Number of Forward Gears  \\\n",
              "0                       True                                           6   \n",
              "\n",
              "  Engine Information.Transmission  Fuel Information.City mpg  \\\n",
              "0  6 Speed Automatic Select Shift                         18   \n",
              "\n",
              "  Fuel Information.Fuel Type  Fuel Information.Highway mpg  \\\n",
              "0                   Gasoline                            25   \n",
              "\n",
              "  Identification.Classification Identification.ID Identification.Make  \\\n",
              "0        Automatic transmission  2009 Audi A3 3.2                Audi   \n",
              "\n",
              "  Identification.Model Year  Identification.Year  \\\n",
              "0              2009 Audi A3                 2009   \n",
              "\n",
              "   Engine Information.Engine Statistics.Horsepower  \\\n",
              "0                                              250   \n",
              "\n",
              "   Engine Information.Engine Statistics.Torque  \n",
              "0                                          236  "
            ],
            "text/html": [
              "\n",
              "  <div id=\"df-06acc76d-5194-4f91-86e9-9feb66824716\" class=\"colab-df-container\">\n",
              "    <div>\n",
              "<style scoped>\n",
              "    .dataframe tbody tr th:only-of-type {\n",
              "        vertical-align: middle;\n",
              "    }\n",
              "\n",
              "    .dataframe tbody tr th {\n",
              "        vertical-align: top;\n",
              "    }\n",
              "\n",
              "    .dataframe thead th {\n",
              "        text-align: right;\n",
              "    }\n",
              "</style>\n",
              "<table border=\"1\" class=\"dataframe\">\n",
              "  <thead>\n",
              "    <tr style=\"text-align: right;\">\n",
              "      <th></th>\n",
              "      <th>Dimensions.Height</th>\n",
              "      <th>Dimensions.Length</th>\n",
              "      <th>Dimensions.Width</th>\n",
              "      <th>Engine Information.Driveline</th>\n",
              "      <th>Engine Information.Engine Type</th>\n",
              "      <th>Engine Information.Hybrid</th>\n",
              "      <th>Engine Information.Number of Forward Gears</th>\n",
              "      <th>Engine Information.Transmission</th>\n",
              "      <th>Fuel Information.City mpg</th>\n",
              "      <th>Fuel Information.Fuel Type</th>\n",
              "      <th>Fuel Information.Highway mpg</th>\n",
              "      <th>Identification.Classification</th>\n",
              "      <th>Identification.ID</th>\n",
              "      <th>Identification.Make</th>\n",
              "      <th>Identification.Model Year</th>\n",
              "      <th>Identification.Year</th>\n",
              "      <th>Engine Information.Engine Statistics.Horsepower</th>\n",
              "      <th>Engine Information.Engine Statistics.Torque</th>\n",
              "    </tr>\n",
              "  </thead>\n",
              "  <tbody>\n",
              "    <tr>\n",
              "      <th>0</th>\n",
              "      <td>140</td>\n",
              "      <td>143</td>\n",
              "      <td>202</td>\n",
              "      <td>All-wheel drive</td>\n",
              "      <td>Audi 3.2L 6 cylinder 250hp 236ft-lbs</td>\n",
              "      <td>True</td>\n",
              "      <td>6</td>\n",
              "      <td>6 Speed Automatic Select Shift</td>\n",
              "      <td>18</td>\n",
              "      <td>Gasoline</td>\n",
              "      <td>25</td>\n",
              "      <td>Automatic transmission</td>\n",
              "      <td>2009 Audi A3 3.2</td>\n",
              "      <td>Audi</td>\n",
              "      <td>2009 Audi A3</td>\n",
              "      <td>2009</td>\n",
              "      <td>250</td>\n",
              "      <td>236</td>\n",
              "    </tr>\n",
              "  </tbody>\n",
              "</table>\n",
              "</div>\n",
              "    <div class=\"colab-df-buttons\">\n",
              "\n",
              "  <div class=\"colab-df-container\">\n",
              "    <button class=\"colab-df-convert\" onclick=\"convertToInteractive('df-06acc76d-5194-4f91-86e9-9feb66824716')\"\n",
              "            title=\"Convert this dataframe to an interactive table.\"\n",
              "            style=\"display:none;\">\n",
              "\n",
              "  <svg xmlns=\"http://www.w3.org/2000/svg\" height=\"24px\" viewBox=\"0 -960 960 960\">\n",
              "    <path d=\"M120-120v-720h720v720H120Zm60-500h600v-160H180v160Zm220 220h160v-160H400v160Zm0 220h160v-160H400v160ZM180-400h160v-160H180v160Zm440 0h160v-160H620v160ZM180-180h160v-160H180v160Zm440 0h160v-160H620v160Z\"/>\n",
              "  </svg>\n",
              "    </button>\n",
              "\n",
              "  <style>\n",
              "    .colab-df-container {\n",
              "      display:flex;\n",
              "      gap: 12px;\n",
              "    }\n",
              "\n",
              "    .colab-df-convert {\n",
              "      background-color: #E8F0FE;\n",
              "      border: none;\n",
              "      border-radius: 50%;\n",
              "      cursor: pointer;\n",
              "      display: none;\n",
              "      fill: #1967D2;\n",
              "      height: 32px;\n",
              "      padding: 0 0 0 0;\n",
              "      width: 32px;\n",
              "    }\n",
              "\n",
              "    .colab-df-convert:hover {\n",
              "      background-color: #E2EBFA;\n",
              "      box-shadow: 0px 1px 2px rgba(60, 64, 67, 0.3), 0px 1px 3px 1px rgba(60, 64, 67, 0.15);\n",
              "      fill: #174EA6;\n",
              "    }\n",
              "\n",
              "    .colab-df-buttons div {\n",
              "      margin-bottom: 4px;\n",
              "    }\n",
              "\n",
              "    [theme=dark] .colab-df-convert {\n",
              "      background-color: #3B4455;\n",
              "      fill: #D2E3FC;\n",
              "    }\n",
              "\n",
              "    [theme=dark] .colab-df-convert:hover {\n",
              "      background-color: #434B5C;\n",
              "      box-shadow: 0px 1px 3px 1px rgba(0, 0, 0, 0.15);\n",
              "      filter: drop-shadow(0px 1px 2px rgba(0, 0, 0, 0.3));\n",
              "      fill: #FFFFFF;\n",
              "    }\n",
              "  </style>\n",
              "\n",
              "    <script>\n",
              "      const buttonEl =\n",
              "        document.querySelector('#df-06acc76d-5194-4f91-86e9-9feb66824716 button.colab-df-convert');\n",
              "      buttonEl.style.display =\n",
              "        google.colab.kernel.accessAllowed ? 'block' : 'none';\n",
              "\n",
              "      async function convertToInteractive(key) {\n",
              "        const element = document.querySelector('#df-06acc76d-5194-4f91-86e9-9feb66824716');\n",
              "        const dataTable =\n",
              "          await google.colab.kernel.invokeFunction('convertToInteractive',\n",
              "                                                    [key], {});\n",
              "        if (!dataTable) return;\n",
              "\n",
              "        const docLinkHtml = 'Like what you see? Visit the ' +\n",
              "          '<a target=\"_blank\" href=https://colab.research.google.com/notebooks/data_table.ipynb>data table notebook</a>'\n",
              "          + ' to learn more about interactive tables.';\n",
              "        element.innerHTML = '';\n",
              "        dataTable['output_type'] = 'display_data';\n",
              "        await google.colab.output.renderOutput(dataTable, element);\n",
              "        const docLink = document.createElement('div');\n",
              "        docLink.innerHTML = docLinkHtml;\n",
              "        element.appendChild(docLink);\n",
              "      }\n",
              "    </script>\n",
              "  </div>\n",
              "\n",
              "\n",
              "    </div>\n",
              "  </div>\n"
            ],
            "application/vnd.google.colaboratory.intrinsic+json": {
              "type": "dataframe",
              "variable_name": "cars_df",
              "summary": "{\n  \"name\": \"cars_df\",\n  \"rows\": 5076,\n  \"fields\": [\n    {\n      \"column\": \"Dimensions.Height\",\n      \"properties\": {\n        \"dtype\": \"number\",\n        \"std\": 62,\n        \"min\": 1,\n        \"max\": 255,\n        \"num_unique_values\": 198,\n        \"samples\": [\n          88,\n          231,\n          167\n        ],\n        \"semantic_type\": \"\",\n        \"description\": \"\"\n      }\n    },\n    {\n      \"column\": \"Dimensions.Length\",\n      \"properties\": {\n        \"dtype\": \"number\",\n        \"std\": 77,\n        \"min\": 2,\n        \"max\": 255,\n        \"num_unique_values\": 208,\n        \"samples\": [\n          141,\n          155,\n          28\n        ],\n        \"semantic_type\": \"\",\n        \"description\": \"\"\n      }\n    },\n    {\n      \"column\": \"Dimensions.Width\",\n      \"properties\": {\n        \"dtype\": \"number\",\n        \"std\": 79,\n        \"min\": 1,\n        \"max\": 254,\n        \"num_unique_values\": 138,\n        \"samples\": [\n          217,\n          59,\n          247\n        ],\n        \"semantic_type\": \"\",\n        \"description\": \"\"\n      }\n    },\n    {\n      \"column\": \"Engine Information.Driveline\",\n      \"properties\": {\n        \"dtype\": \"category\",\n        \"num_unique_values\": 4,\n        \"samples\": [\n          \"Front-wheel drive\",\n          \"Four-wheel drive\",\n          \"All-wheel drive\"\n        ],\n        \"semantic_type\": \"\",\n        \"description\": \"\"\n      }\n    },\n    {\n      \"column\": \"Engine Information.Engine Type\",\n      \"properties\": {\n        \"dtype\": \"category\",\n        \"num_unique_values\": 535,\n        \"samples\": [\n          \"Honda 2.0L 4 Cyinder 197 hp 139 ft-lbs\",\n          \"Kia 2.0L 4 Cylinder 142 hp 137 ft-lbs\",\n          \"Ford 2.0L 4 Cylinder 240 hp 270 ft-lbs Turbo\"\n        ],\n        \"semantic_type\": \"\",\n        \"description\": \"\"\n      }\n    },\n    {\n      \"column\": \"Engine Information.Hybrid\",\n      \"properties\": {\n        \"dtype\": \"boolean\",\n        \"num_unique_values\": 1,\n        \"samples\": [\n          true\n        ],\n        \"semantic_type\": \"\",\n        \"description\": \"\"\n      }\n    },\n    {\n      \"column\": \"Engine Information.Number of Forward Gears\",\n      \"properties\": {\n        \"dtype\": \"number\",\n        \"std\": 0,\n        \"min\": 4,\n        \"max\": 8,\n        \"num_unique_values\": 5,\n        \"samples\": [\n          5\n        ],\n        \"semantic_type\": \"\",\n        \"description\": \"\"\n      }\n    },\n    {\n      \"column\": \"Engine Information.Transmission\",\n      \"properties\": {\n        \"dtype\": \"category\",\n        \"num_unique_values\": 11,\n        \"samples\": [\n          \"5 Speed Automatic\"\n        ],\n        \"semantic_type\": \"\",\n        \"description\": \"\"\n      }\n    },\n    {\n      \"column\": \"Fuel Information.City mpg\",\n      \"properties\": {\n        \"dtype\": \"number\",\n        \"std\": 4,\n        \"min\": 8,\n        \"max\": 38,\n        \"num_unique_values\": 27,\n        \"samples\": [\n          12\n        ],\n        \"semantic_type\": \"\",\n        \"description\": \"\"\n      }\n    },\n    {\n      \"column\": \"Fuel Information.Fuel Type\",\n      \"properties\": {\n        \"dtype\": \"category\",\n        \"num_unique_values\": 4,\n        \"samples\": [\n          \"E85\"\n        ],\n        \"semantic_type\": \"\",\n        \"description\": \"\"\n      }\n    },\n    {\n      \"column\": \"Fuel Information.Highway mpg\",\n      \"properties\": {\n        \"dtype\": \"number\",\n        \"std\": 6,\n        \"min\": 11,\n        \"max\": 223,\n        \"num_unique_values\": 34,\n        \"samples\": [\n          24\n        ],\n        \"semantic_type\": \"\",\n        \"description\": \"\"\n      }\n    },\n    {\n      \"column\": \"Identification.Classification\",\n      \"properties\": {\n        \"dtype\": \"category\",\n        \"num_unique_values\": 2,\n        \"samples\": [\n          \"Manual transmission\"\n        ],\n        \"semantic_type\": \"\",\n        \"description\": \"\"\n      }\n    },\n    {\n      \"column\": \"Identification.ID\",\n      \"properties\": {\n        \"dtype\": \"string\",\n        \"num_unique_values\": 5030,\n        \"samples\": [\n          \"2010 Buick Lacrosse CXS\"\n        ],\n        \"semantic_type\": \"\",\n        \"description\": \"\"\n      }\n    },\n    {\n      \"column\": \"Identification.Make\",\n      \"properties\": {\n        \"dtype\": \"category\",\n        \"num_unique_values\": 47,\n        \"samples\": [\n          \"Lincoln\"\n        ],\n        \"semantic_type\": \"\",\n        \"description\": \"\"\n      }\n    },\n    {\n      \"column\": \"Identification.Model Year\",\n      \"properties\": {\n        \"dtype\": \"category\",\n        \"num_unique_values\": 918,\n        \"samples\": [\n          \"2011 Mercury Grand Marquis\"\n        ],\n        \"semantic_type\": \"\",\n        \"description\": \"\"\n      }\n    },\n    {\n      \"column\": \"Identification.Year\",\n      \"properties\": {\n        \"dtype\": \"number\",\n        \"std\": 0,\n        \"min\": 2009,\n        \"max\": 2012,\n        \"num_unique_values\": 4,\n        \"samples\": [\n          2012\n        ],\n        \"semantic_type\": \"\",\n        \"description\": \"\"\n      }\n    },\n    {\n      \"column\": \"Engine Information.Engine Statistics.Horsepower\",\n      \"properties\": {\n        \"dtype\": \"number\",\n        \"std\": 95,\n        \"min\": 100,\n        \"max\": 638,\n        \"num_unique_values\": 216,\n        \"samples\": [\n          204\n        ],\n        \"semantic_type\": \"\",\n        \"description\": \"\"\n      }\n    },\n    {\n      \"column\": \"Engine Information.Engine Statistics.Torque\",\n      \"properties\": {\n        \"dtype\": \"number\",\n        \"std\": 100,\n        \"min\": 98,\n        \"max\": 774,\n        \"num_unique_values\": 217,\n        \"samples\": [\n          277\n        ],\n        \"semantic_type\": \"\",\n        \"description\": \"\"\n      }\n    }\n  ]\n}"
            }
          },
          "metadata": {},
          "execution_count": 6
        }
      ],
      "source": [
        "cars_df.head(1)"
      ]
    },
    {
      "cell_type": "markdown",
      "metadata": {
        "id": "WE7e8sI6awul"
      },
      "source": [
        "### 1. Inspect data - 1 point\n",
        "\n",
        "1.1 What is the number of unique car identifiers (`Identification.ID`)? - 0.5 points"
      ]
    },
    {
      "cell_type": "code",
      "execution_count": 7,
      "metadata": {
        "colab": {
          "base_uri": "https://localhost:8080/"
        },
        "id": "6pzkER3mawul",
        "outputId": "ef1a224a-0335-4bfc-d521-cd4fdf44ad60"
      },
      "outputs": [
        {
          "output_type": "execute_result",
          "data": {
            "text/plain": [
              "5030"
            ]
          },
          "metadata": {},
          "execution_count": 7
        }
      ],
      "source": [
        "# YOUR CODE HERE\n",
        "unique_ids = cars_df['Identification.ID'].nunique() #or .drop_duplicates().shape[0]\n",
        "unique_ids"
      ]
    },
    {
      "cell_type": "markdown",
      "metadata": {
        "id": "ObLUTiEvawul"
      },
      "source": [
        "1.2 What is the number of unique entries in the dataset when jointly looking at `Identification.ID` AND `Identification.Year`? Note that this should be greater than the value obtained before - 0.5 points"
      ]
    },
    {
      "cell_type": "code",
      "execution_count": 8,
      "metadata": {
        "colab": {
          "base_uri": "https://localhost:8080/"
        },
        "id": "yKih6Datawul",
        "outputId": "fb7ad133-68e0-4bec-a479-395b186f4ebc"
      },
      "outputs": [
        {
          "output_type": "execute_result",
          "data": {
            "text/plain": [
              "5039"
            ]
          },
          "metadata": {},
          "execution_count": 8
        }
      ],
      "source": [
        "# YOUR CODE HERE\n",
        "unique_ids_and_years = cars_df[['Identification.ID','Identification.Year']].drop_duplicates().shape[0]\n",
        "unique_ids_and_years"
      ]
    },
    {
      "cell_type": "code",
      "source": [
        "!pip install pandera"
      ],
      "metadata": {
        "colab": {
          "base_uri": "https://localhost:8080/"
        },
        "id": "Jdgc2NhdCZrB",
        "outputId": "5233b0b2-83b0-4970-bb1b-a434b038dde7"
      },
      "execution_count": 9,
      "outputs": [
        {
          "output_type": "stream",
          "name": "stdout",
          "text": [
            "Collecting pandera\n",
            "  Downloading pandera-0.26.1-py3-none-any.whl.metadata (10 kB)\n",
            "Requirement already satisfied: packaging>=20.0 in /usr/local/lib/python3.12/dist-packages (from pandera) (25.0)\n",
            "Requirement already satisfied: pydantic in /usr/local/lib/python3.12/dist-packages (from pandera) (2.11.10)\n",
            "Requirement already satisfied: typeguard in /usr/local/lib/python3.12/dist-packages (from pandera) (4.4.4)\n",
            "Requirement already satisfied: typing_extensions in /usr/local/lib/python3.12/dist-packages (from pandera) (4.15.0)\n",
            "Collecting typing_inspect>=0.6.0 (from pandera)\n",
            "  Downloading typing_inspect-0.9.0-py3-none-any.whl.metadata (1.5 kB)\n",
            "Collecting mypy-extensions>=0.3.0 (from typing_inspect>=0.6.0->pandera)\n",
            "  Downloading mypy_extensions-1.1.0-py3-none-any.whl.metadata (1.1 kB)\n",
            "Requirement already satisfied: annotated-types>=0.6.0 in /usr/local/lib/python3.12/dist-packages (from pydantic->pandera) (0.7.0)\n",
            "Requirement already satisfied: pydantic-core==2.33.2 in /usr/local/lib/python3.12/dist-packages (from pydantic->pandera) (2.33.2)\n",
            "Requirement already satisfied: typing-inspection>=0.4.0 in /usr/local/lib/python3.12/dist-packages (from pydantic->pandera) (0.4.2)\n",
            "Downloading pandera-0.26.1-py3-none-any.whl (292 kB)\n",
            "\u001b[2K   \u001b[90m━━━━━━━━━━━━━━━━━━━━━━━━━━━━━━━━━━━━━━━━\u001b[0m \u001b[32m292.9/292.9 kB\u001b[0m \u001b[31m4.5 MB/s\u001b[0m eta \u001b[36m0:00:00\u001b[0m\n",
            "\u001b[?25hDownloading typing_inspect-0.9.0-py3-none-any.whl (8.8 kB)\n",
            "Downloading mypy_extensions-1.1.0-py3-none-any.whl (5.0 kB)\n",
            "Installing collected packages: mypy-extensions, typing_inspect, pandera\n",
            "Successfully installed mypy-extensions-1.1.0 pandera-0.26.1 typing_inspect-0.9.0\n"
          ]
        }
      ]
    },
    {
      "cell_type": "code",
      "source": [
        "# quick sanity checks for data being right\n",
        "import pandera as pa\n",
        "from pandera import DataFrameSchema, Column, Check\n",
        "\n",
        "schema = DataFrameSchema({\n",
        "    \"Identification.ID\": Column(str),\n",
        "    \"Identification.Year\": Column(int, Check(lambda x: x.between(1990, 2025),\n",
        "                                             error=\"Year must be between 1990 and 2025\")),\n",
        "    \"Fuel Information.City mpg\": Column(int, Check(lambda x: x.between(1,70),\n",
        "                                                   error=\"City MPG must be between 1 and 70\")),\n",
        "    \"Engine Information.Hybrid\": Column(bool, Check(lambda x: x.isin([True, False]),\n",
        "                                                    error=\"Hybrid field must be True or False\")),\n",
        "    \"Fuel Information.Highway mpg\": Column(int, Check(lambda x: x.between(1, 150),\n",
        "                                                      error=\"Highway MPG must be between 1 and 150\"))\n",
        "},\n",
        "  checks=[\n",
        "      Check(lambda df: unique_ids_and_years > unique_ids,\n",
        "      error=\"Fewer unique (ID, Year) pairs than unique IDs.\"),\n",
        "      Check(lambda df: (df[\"Fuel Information.City mpg\"] < df[\"Fuel Information.Highway mpg\"]).all(),\n",
        "      error=\"City MPG should always be less than highway MPG\"),\n",
        "      Check(lambda df: (df[\"Dimensions.Height\"] > df[\"Dimensions.Length\"]).all(),\n",
        "      error=\"Car height should be less than its length.\"),\n",
        "      Check(lambda df: (df[\"Engine Information.Engine Statistics.Torque\"]>0).all(),\n",
        "      error=\"Tourque should be > 0.\")\n",
        "  ]\n",
        "                         )\n",
        "schema.validate(cars_df, lazy=True)"
      ],
      "metadata": {
        "colab": {
          "base_uri": "https://localhost:8080/",
          "height": 777
        },
        "id": "O6kXSMjOK8E5",
        "outputId": "f77e4b6b-ea06-498f-bd9e-aad171ddf658"
      },
      "execution_count": 16,
      "outputs": [
        {
          "output_type": "error",
          "ename": "SchemaErrors",
          "evalue": "{\n    \"DATA\": {\n        \"DATAFRAME_CHECK\": [\n            {\n                \"schema\": null,\n                \"column\": \"Fuel Information.Highway mpg\",\n                \"check\": \"Highway MPG must be between 1 and 150\",\n                \"error\": \"Column 'Fuel Information.Highway mpg' failed element-wise validator number 0: <Check <lambda>: Highway MPG must be between 1 and 150> failure cases: 223\"\n            },\n            {\n                \"schema\": null,\n                \"column\": null,\n                \"check\": \"City MPG should always be less than highway MPG\",\n                \"error\": \"DataFrameSchema 'None' failed series or dataframe validator 1: <Check <lambda>: City MPG should always be less than highway MPG>\"\n            },\n            {\n                \"schema\": null,\n                \"column\": null,\n                \"check\": \"Car height should be less than its length.\",\n                \"error\": \"DataFrameSchema 'None' failed series or dataframe validator 2: <Check <lambda>: Car height should be less than its length.>\"\n            }\n        ]\n    }\n}",
          "traceback": [
            "\u001b[0;31m---------------------------------------------------------------------------\u001b[0m",
            "\u001b[0;31mSchemaErrors\u001b[0m                              Traceback (most recent call last)",
            "\u001b[0;32m/tmp/ipython-input-2607571439.py\u001b[0m in \u001b[0;36m<cell line: 0>\u001b[0;34m()\u001b[0m\n\u001b[1;32m     25\u001b[0m   ]\n\u001b[1;32m     26\u001b[0m                          )\n\u001b[0;32m---> 27\u001b[0;31m \u001b[0mschema\u001b[0m\u001b[0;34m.\u001b[0m\u001b[0mvalidate\u001b[0m\u001b[0;34m(\u001b[0m\u001b[0mcars_df\u001b[0m\u001b[0;34m,\u001b[0m \u001b[0mlazy\u001b[0m\u001b[0;34m=\u001b[0m\u001b[0;32mTrue\u001b[0m\u001b[0;34m)\u001b[0m\u001b[0;34m\u001b[0m\u001b[0;34m\u001b[0m\u001b[0m\n\u001b[0m",
            "\u001b[0;32m/usr/local/lib/python3.12/dist-packages/pandera/api/pandas/container.py\u001b[0m in \u001b[0;36mvalidate\u001b[0;34m(self, check_obj, head, tail, sample, random_state, lazy, inplace)\u001b[0m\n\u001b[1;32m    115\u001b[0m             \u001b[0;32mreturn\u001b[0m \u001b[0mcheck_obj\u001b[0m\u001b[0;34m.\u001b[0m\u001b[0mpandera\u001b[0m\u001b[0;34m.\u001b[0m\u001b[0madd_schema\u001b[0m\u001b[0;34m(\u001b[0m\u001b[0mself\u001b[0m\u001b[0;34m)\u001b[0m\u001b[0;34m\u001b[0m\u001b[0;34m\u001b[0m\u001b[0m\n\u001b[1;32m    116\u001b[0m \u001b[0;34m\u001b[0m\u001b[0m\n\u001b[0;32m--> 117\u001b[0;31m         return self._validate(\n\u001b[0m\u001b[1;32m    118\u001b[0m             \u001b[0mcheck_obj\u001b[0m\u001b[0;34m=\u001b[0m\u001b[0mcheck_obj\u001b[0m\u001b[0;34m,\u001b[0m\u001b[0;34m\u001b[0m\u001b[0;34m\u001b[0m\u001b[0m\n\u001b[1;32m    119\u001b[0m             \u001b[0mhead\u001b[0m\u001b[0;34m=\u001b[0m\u001b[0mhead\u001b[0m\u001b[0;34m,\u001b[0m\u001b[0;34m\u001b[0m\u001b[0;34m\u001b[0m\u001b[0m\n",
            "\u001b[0;32m/usr/local/lib/python3.12/dist-packages/pandera/api/pandas/container.py\u001b[0m in \u001b[0;36m_validate\u001b[0;34m(self, check_obj, head, tail, sample, random_state, lazy, inplace)\u001b[0m\n\u001b[1;32m    136\u001b[0m     ) -> pd.DataFrame:\n\u001b[1;32m    137\u001b[0m \u001b[0;34m\u001b[0m\u001b[0m\n\u001b[0;32m--> 138\u001b[0;31m         return self.get_backend(check_obj).validate(\n\u001b[0m\u001b[1;32m    139\u001b[0m             \u001b[0mcheck_obj\u001b[0m\u001b[0;34m,\u001b[0m\u001b[0;34m\u001b[0m\u001b[0;34m\u001b[0m\u001b[0m\n\u001b[1;32m    140\u001b[0m             \u001b[0mschema\u001b[0m\u001b[0;34m=\u001b[0m\u001b[0mself\u001b[0m\u001b[0;34m,\u001b[0m\u001b[0;34m\u001b[0m\u001b[0;34m\u001b[0m\u001b[0m\n",
            "\u001b[0;32m/usr/local/lib/python3.12/dist-packages/pandera/backends/pandas/container.py\u001b[0m in \u001b[0;36mvalidate\u001b[0;34m(self, check_obj, schema, head, tail, sample, random_state, lazy, inplace)\u001b[0m\n\u001b[1;32m    130\u001b[0m                 \u001b[0mcheck_obj\u001b[0m \u001b[0;34m=\u001b[0m \u001b[0mself\u001b[0m\u001b[0;34m.\u001b[0m\u001b[0mdrop_invalid_rows\u001b[0m\u001b[0;34m(\u001b[0m\u001b[0mcheck_obj\u001b[0m\u001b[0;34m,\u001b[0m \u001b[0merror_handler\u001b[0m\u001b[0;34m)\u001b[0m\u001b[0;34m\u001b[0m\u001b[0;34m\u001b[0m\u001b[0m\n\u001b[1;32m    131\u001b[0m             \u001b[0;32melse\u001b[0m\u001b[0;34m:\u001b[0m\u001b[0;34m\u001b[0m\u001b[0;34m\u001b[0m\u001b[0m\n\u001b[0;32m--> 132\u001b[0;31m                 raise SchemaErrors(\n\u001b[0m\u001b[1;32m    133\u001b[0m                     \u001b[0mschema\u001b[0m\u001b[0;34m=\u001b[0m\u001b[0mschema\u001b[0m\u001b[0;34m,\u001b[0m\u001b[0;34m\u001b[0m\u001b[0;34m\u001b[0m\u001b[0m\n\u001b[1;32m    134\u001b[0m                     \u001b[0mschema_errors\u001b[0m\u001b[0;34m=\u001b[0m\u001b[0merror_handler\u001b[0m\u001b[0;34m.\u001b[0m\u001b[0mschema_errors\u001b[0m\u001b[0;34m,\u001b[0m\u001b[0;34m\u001b[0m\u001b[0;34m\u001b[0m\u001b[0m\n",
            "\u001b[0;31mSchemaErrors\u001b[0m: {\n    \"DATA\": {\n        \"DATAFRAME_CHECK\": [\n            {\n                \"schema\": null,\n                \"column\": \"Fuel Information.Highway mpg\",\n                \"check\": \"Highway MPG must be between 1 and 150\",\n                \"error\": \"Column 'Fuel Information.Highway mpg' failed element-wise validator number 0: <Check <lambda>: Highway MPG must be between 1 and 150> failure cases: 223\"\n            },\n            {\n                \"schema\": null,\n                \"column\": null,\n                \"check\": \"City MPG should always be less than highway MPG\",\n                \"error\": \"DataFrameSchema 'None' failed series or dataframe validator 1: <Check <lambda>: City MPG should always be less than highway MPG>\"\n            },\n            {\n                \"schema\": null,\n                \"column\": null,\n                \"check\": \"Car height should be less than its length.\",\n                \"error\": \"DataFrameSchema 'None' failed series or dataframe validator 2: <Check <lambda>: Car height should be less than its length.>\"\n            }\n        ]\n    }\n}"
          ]
        }
      ]
    },
    {
      "cell_type": "markdown",
      "source": [
        "pandera found several issue with several of the data assumptions which could get cleaned after the data split."
      ],
      "metadata": {
        "id": "sFvCjPpFRXTI"
      }
    },
    {
      "cell_type": "code",
      "source": [
        "try:\n",
        "    schema.validate(cars_df, lazy=True)\n",
        "    print(\"All checks passed.\")\n",
        "except pa.errors.SchemaErrors as err:\n",
        "    failures = err.failure_cases\n",
        "\n",
        "    # 1️⃣ Column-level issues\n",
        "    summary = (\n",
        "        failures.groupby([\"column\", \"check\"])\n",
        "        .agg({\"failure_case\": list})\n",
        "        .reset_index()\n",
        "    )\n",
        "\n",
        "    # 2️⃣ DataFrame-level issues (iterate SchemaError objects)\n",
        "    df_errors = []\n",
        "    for e in err.schema_errors:   # each is a SchemaError instance\n",
        "        df_errors.append({\n",
        "            \"column\": getattr(e, \"column\", None),\n",
        "            \"check\": getattr(e, \"check\", None),\n",
        "            \"failure_case\": getattr(e, \"reason_code\", None) or str(e)\n",
        "        })\n",
        "\n",
        "    df_errors = pd.DataFrame(df_errors)\n",
        "    full_summary = pd.concat([summary, df_errors], ignore_index=True)\n",
        "\n",
        "    display(full_summary)\n"
      ],
      "metadata": {
        "id": "MWgemb5JOTpm"
      },
      "execution_count": null,
      "outputs": []
    },
    {
      "cell_type": "code",
      "execution_count": null,
      "metadata": {
        "id": "KptWPyhPawul"
      },
      "outputs": [],
      "source": [
        "assert unique_ids_and_years > unique_ids"
      ]
    },
    {
      "cell_type": "markdown",
      "metadata": {
        "id": "4fGh9Yvoawul"
      },
      "source": [
        "### 2. Distribution of data - 3 points\n",
        "a) Plot a distribution(histogram) of Highway fuel economy(`Fuel Information.Highway mpg`). Overlay this plot with a density plot of the same quantity - 2 points\n",
        "\n",
        "Note:\n",
        "1. Each value must have its own bin (Hint - use `range`) and should occupy the entire width of the plot\n",
        "2. Each bar of the histogram should be blue and separated by black border(Hint - look at `ec` parameter of matplotlib's histogram API)\n",
        "3. The overlaying density line should be orange"
      ]
    },
    {
      "cell_type": "code",
      "execution_count": null,
      "metadata": {
        "id": "o7TrFNjlawul"
      },
      "outputs": [],
      "source": [
        "from scipy.stats import gaussian_kde\n"
      ]
    },
    {
      "cell_type": "code",
      "execution_count": null,
      "metadata": {
        "id": "pSNPT4ptawul"
      },
      "outputs": [],
      "source": [
        "# YOUR CODE HERE\n",
        "\n"
      ]
    },
    {
      "cell_type": "markdown",
      "metadata": {
        "id": "M_LdCnwIawum"
      },
      "source": [
        "b) Repeate the same for city fuel economy(`Fuel Information.City mpg`) - 0.5 point\n",
        "\n",
        "(Subjective)(Optional) Is this plot similar to the previous one? Approximately, how much is city fuel economy lower compared to highway fuel economy?"
      ]
    },
    {
      "cell_type": "code",
      "execution_count": null,
      "metadata": {
        "id": "7nSdtKnKawum"
      },
      "outputs": [],
      "source": [
        "# YOUR CODE HERE\n"
      ]
    },
    {
      "cell_type": "markdown",
      "metadata": {
        "id": "4zN5DU53awum"
      },
      "source": [
        "c) Repeat the same for Engine Horsepower(`Engine Information.Engine Statistics.Horsepower`) - 0.5 points\n",
        "\n",
        "Note:\n",
        "\n",
        "1. Use appropriate `bins`, since the range of horsepower is much higher than fuel economy. Hint - Try bin size of `10` or `20`\n",
        "2. Experiment with different colors from 1 (a)\n"
      ]
    },
    {
      "cell_type": "code",
      "execution_count": null,
      "metadata": {
        "id": "X3sWUOOuawum"
      },
      "outputs": [],
      "source": [
        "# YOUR CODE HERE"
      ]
    },
    {
      "cell_type": "markdown",
      "metadata": {
        "id": "kVBkmWjSawum"
      },
      "source": [
        "### 3. Correlation - 3 points"
      ]
    },
    {
      "cell_type": "markdown",
      "metadata": {
        "id": "jbDn54xMawum"
      },
      "source": [
        "3.1 Plot a scatter plot, overlayed with a *line of best fit* plot, of engine horsepower vs highway fuel economy - 2 point\n",
        "\n",
        "* The x-axis is engine power\n",
        "* The y-axis is fuel economy\n",
        "* Lable the axes appropriately\n",
        "* Add an appropriate title\n",
        "* Use [`np.polyfit`](https://numpy.org/doc/stable/reference/generated/numpy.polyfit.html) or any other method/library to plot the line of best fit\n",
        "\n",
        "* Hint - The resulting plot should look similar to [this](https://en.wikipedia.org/wiki/Simple_linear_regression#/media/File:Okuns_law_quarterly_differences.svg)\n",
        "\n",
        "Reference  -[`Simple linear regression`](https://en.wikipedia.org/wiki/Simple_linear_regression)\n",
        "\n",
        "You do not have to worry about the details of linear regression here. You can use any library function to do it for you"
      ]
    },
    {
      "cell_type": "code",
      "execution_count": null,
      "metadata": {
        "id": "4_tDcPioawum"
      },
      "outputs": [],
      "source": [
        "# YOUR CODE HERE\n"
      ]
    },
    {
      "cell_type": "markdown",
      "metadata": {
        "id": "Xoh_O1ZHawum"
      },
      "source": [
        "3.2 You might notice in the previous plot that there is an outlier(porbably an error) in fuel economy. Repate the plot after removing the outlier point - 0.5 points\n",
        "\n",
        "(Optional)(Subjective) What can you tell about the correlation between engine horsepower and fuel economy?"
      ]
    },
    {
      "cell_type": "code",
      "execution_count": null,
      "metadata": {
        "id": "cHHndx8zawum"
      },
      "outputs": [],
      "source": [
        "# YOUR CODE HERE\n",
        "\n"
      ]
    },
    {
      "cell_type": "markdown",
      "metadata": {
        "id": "u9Jf8Skxawum"
      },
      "source": [
        "3.3 Repeat the same for engine horsepower(x-axis) and engine torque(y-axis) - 0.5 point\n",
        "\n",
        "Optional)(Subjective) What can you tell about the correlation between engine horsepower and engine torque?"
      ]
    },
    {
      "cell_type": "code",
      "execution_count": null,
      "metadata": {
        "id": "3vic40kTawum"
      },
      "outputs": [],
      "source": [
        "# YOUR CODE HERE"
      ]
    },
    {
      "cell_type": "markdown",
      "metadata": {
        "id": "lhKpLnKUawum"
      },
      "source": [
        "### 4. Subplots - 3 points\n",
        "\n",
        "* Create a 2 x 2 subplots of the following plots. Make sure the entire plot is sufficiently large(Hint - check [`rcParams`](https://matplotlib.org/stable/tutorials/introductory/customizing.html) )\n",
        "    * Box plot of highway fuel economiy(Note the extreme outlier. You may optionally remove it before plotting it. Both are acceptable solutions) - 0.5 points\n",
        "    * Pie chart of Model year(`Identification.Year`) - 0.5 points\n",
        "    * Histogram of Length(`Dimensions.Length`) with appropriate bins - 0.5 points\n",
        "    * Scatter-plot of Length vs Width(`Dimensions.Width`) with marker size representing engine horsepower - 0.5 point\n",
        "* Subplot and appropriate labelling - 1 point\n",
        "* The order of the plots does not matter"
      ]
    },
    {
      "cell_type": "code",
      "execution_count": null,
      "metadata": {
        "id": "CvoOKYdrawum"
      },
      "outputs": [],
      "source": [
        "# YOUR CODE HERE\n"
      ]
    },
    {
      "cell_type": "markdown",
      "metadata": {
        "id": "EtnBIJcBawun"
      },
      "source": [
        "### 5. Heatmap - 3 points\n",
        "\n",
        "* Create a heatmap of \"Make of the car\" vs \"year+transmission type\" for \"number of models for that year\"\n",
        "    * Pick the top 8 car manufactutres (`Identification.Make`) by number of cars produced - x-axis\n",
        "    * Use a combination of model year and transmission type on y-axis.\n",
        "        * All entries with Automatic transmission should be renamed to \"AT\" and manual to \"MT\"\n",
        "        * Each entry on the Y-axis should look like \"2009-AT\" representing the model year 2009 and Automatic transmission type\n",
        "        * This will require some pre-processing with pandas before plotting the heatmap\n",
        "    * Create a heatmap where each data point shows the number of such models created\n",
        "    * The heatmap should be of size 8x8, with top 8 manufactutres on x-axis and 8 combinations(4 years and 2 transmission types) of year-transmission on y-axis"
      ]
    },
    {
      "cell_type": "code",
      "execution_count": null,
      "metadata": {
        "id": "yPsabB8Tawun"
      },
      "outputs": [],
      "source": [
        "# YOUR CODE HERE"
      ]
    },
    {
      "cell_type": "markdown",
      "metadata": {
        "id": "usoU38G3awun"
      },
      "source": [
        "### 6. Pair-plots (Seaborn) - 2 points\n",
        "* Create a pair-plot of the following columns: length, width, highway fuel economy, city fuel economy, engine power, engine torque\n",
        "* Which of the pairs show a positive correlation? Which of the pairs show a negative correlation?"
      ]
    },
    {
      "cell_type": "code",
      "execution_count": null,
      "metadata": {
        "id": "0g94xEh9awun"
      },
      "outputs": [],
      "source": [
        "# YOUR CODE HERE"
      ]
    }
  ],
  "metadata": {
    "anaconda-cloud": {},
    "kernelspec": {
      "display_name": "Python 3",
      "language": "python",
      "name": "python3"
    },
    "language_info": {
      "codemirror_mode": {
        "name": "ipython",
        "version": 3
      },
      "file_extension": ".py",
      "mimetype": "text/x-python",
      "name": "python",
      "nbconvert_exporter": "python",
      "pygments_lexer": "ipython3",
      "version": "3.11.2"
    },
    "colab": {
      "provenance": []
    }
  },
  "nbformat": 4,
  "nbformat_minor": 0
}