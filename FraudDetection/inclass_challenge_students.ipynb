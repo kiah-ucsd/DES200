{
  "cells": [
    {
      "cell_type": "markdown",
      "metadata": {
        "id": "s3kxy6QlkZ7j"
      },
      "source": [
        "# Credit Card Fraud Detection Challenge at Silverleaf National Bank\n",
        "\n",
        "## The Situation\n",
        "It's 9:15 AM at Silverleaf National Bank's headquarters. You've just left an emergency meeting where the Head of Security revealed alarming statistics: a 47% increase in credit card fraud cases over the last quarter, resulting in $2.3 million in losses. The CEO has given your team 48 hours to develop a solution.\n",
        "\n",
        "## Your Mission\n",
        "As the lead data scientist, you must develop a machine learning model to detect fraudulent transactions in real-time. You have access to a historical dataset of 100,000 transactions, each labeled as fraudulent or legitimate.\n",
        "\n",
        "## Time Allocation (2 hours total):\n",
        "- EDA & Visualization: 40 minutes\n",
        "- Data Preprocessing: 20 minutes\n",
        "- Model Building & Evaluation: 40 minutes\n",
        "- Making & Saving Predictions: 20 minutes\n",
        "\n",
        "## Grading:\n",
        "- EDA (25 points)\n",
        "- Data Preprocessing (25 points)\n",
        "- Model Building & Evaluation (25 points)\n",
        "- Test Predictions (25 points)\n",
        "- Bonus Points (10 points)\n",
        "\n",
        "Let's save the bank!"
      ]
    },
    {
      "cell_type": "code",
      "metadata": {
        "colab": {
          "base_uri": "https://localhost:8080/"
        },
        "id": "toXB7FOPkZ7j",
        "outputId": "151f282e-624e-418c-c917-694957796297"
      },
      "source": [
        "%pip install pandas numpy scikit-learn matplotlib seaborn plotly nbformat"
      ],
      "outputs": [
        {
          "output_type": "stream",
          "name": "stdout",
          "text": [
            "Requirement already satisfied: pandas in /usr/local/lib/python3.12/dist-packages (2.2.2)\n",
            "Requirement already satisfied: numpy in /usr/local/lib/python3.12/dist-packages (2.0.2)\n",
            "Requirement already satisfied: scikit-learn in /usr/local/lib/python3.12/dist-packages (1.6.1)\n",
            "Requirement already satisfied: matplotlib in /usr/local/lib/python3.12/dist-packages (3.10.0)\n",
            "Requirement already satisfied: seaborn in /usr/local/lib/python3.12/dist-packages (0.13.2)\n",
            "Requirement already satisfied: plotly in /usr/local/lib/python3.12/dist-packages (5.24.1)\n",
            "Requirement already satisfied: nbformat in /usr/local/lib/python3.12/dist-packages (5.10.4)\n",
            "Requirement already satisfied: python-dateutil>=2.8.2 in /usr/local/lib/python3.12/dist-packages (from pandas) (2.9.0.post0)\n",
            "Requirement already satisfied: pytz>=2020.1 in /usr/local/lib/python3.12/dist-packages (from pandas) (2025.2)\n",
            "Requirement already satisfied: tzdata>=2022.7 in /usr/local/lib/python3.12/dist-packages (from pandas) (2025.2)\n",
            "Requirement already satisfied: scipy>=1.6.0 in /usr/local/lib/python3.12/dist-packages (from scikit-learn) (1.16.2)\n",
            "Requirement already satisfied: joblib>=1.2.0 in /usr/local/lib/python3.12/dist-packages (from scikit-learn) (1.5.2)\n",
            "Requirement already satisfied: threadpoolctl>=3.1.0 in /usr/local/lib/python3.12/dist-packages (from scikit-learn) (3.6.0)\n",
            "Requirement already satisfied: contourpy>=1.0.1 in /usr/local/lib/python3.12/dist-packages (from matplotlib) (1.3.3)\n",
            "Requirement already satisfied: cycler>=0.10 in /usr/local/lib/python3.12/dist-packages (from matplotlib) (0.12.1)\n",
            "Requirement already satisfied: fonttools>=4.22.0 in /usr/local/lib/python3.12/dist-packages (from matplotlib) (4.60.1)\n",
            "Requirement already satisfied: kiwisolver>=1.3.1 in /usr/local/lib/python3.12/dist-packages (from matplotlib) (1.4.9)\n",
            "Requirement already satisfied: packaging>=20.0 in /usr/local/lib/python3.12/dist-packages (from matplotlib) (25.0)\n",
            "Requirement already satisfied: pillow>=8 in /usr/local/lib/python3.12/dist-packages (from matplotlib) (11.3.0)\n",
            "Requirement already satisfied: pyparsing>=2.3.1 in /usr/local/lib/python3.12/dist-packages (from matplotlib) (3.2.5)\n",
            "Requirement already satisfied: tenacity>=6.2.0 in /usr/local/lib/python3.12/dist-packages (from plotly) (8.5.0)\n",
            "Requirement already satisfied: fastjsonschema>=2.15 in /usr/local/lib/python3.12/dist-packages (from nbformat) (2.21.2)\n",
            "Requirement already satisfied: jsonschema>=2.6 in /usr/local/lib/python3.12/dist-packages (from nbformat) (4.25.1)\n",
            "Requirement already satisfied: jupyter-core!=5.0.*,>=4.12 in /usr/local/lib/python3.12/dist-packages (from nbformat) (5.9.1)\n",
            "Requirement already satisfied: traitlets>=5.1 in /usr/local/lib/python3.12/dist-packages (from nbformat) (5.7.1)\n",
            "Requirement already satisfied: attrs>=22.2.0 in /usr/local/lib/python3.12/dist-packages (from jsonschema>=2.6->nbformat) (25.4.0)\n",
            "Requirement already satisfied: jsonschema-specifications>=2023.03.6 in /usr/local/lib/python3.12/dist-packages (from jsonschema>=2.6->nbformat) (2025.9.1)\n",
            "Requirement already satisfied: referencing>=0.28.4 in /usr/local/lib/python3.12/dist-packages (from jsonschema>=2.6->nbformat) (0.37.0)\n",
            "Requirement already satisfied: rpds-py>=0.7.1 in /usr/local/lib/python3.12/dist-packages (from jsonschema>=2.6->nbformat) (0.27.1)\n",
            "Requirement already satisfied: platformdirs>=2.5 in /usr/local/lib/python3.12/dist-packages (from jupyter-core!=5.0.*,>=4.12->nbformat) (4.5.0)\n",
            "Requirement already satisfied: six>=1.5 in /usr/local/lib/python3.12/dist-packages (from python-dateutil>=2.8.2->pandas) (1.17.0)\n",
            "Requirement already satisfied: typing-extensions>=4.4.0 in /usr/local/lib/python3.12/dist-packages (from referencing>=0.28.4->jsonschema>=2.6->nbformat) (4.15.0)\n"
          ]
        }
      ],
      "execution_count": 17
    },
    {
      "cell_type": "code",
      "metadata": {
        "id": "LX8-gqoAkZ7k"
      },
      "source": [
        "import os\n",
        "import requests\n",
        "\n",
        "import pandas as pd\n",
        "import numpy as np\n",
        "from sklearn.model_selection import train_test_split\n",
        "from sklearn.preprocessing import StandardScaler, LabelEncoder\n",
        "from sklearn.metrics import classification_report, confusion_matrix, roc_curve, auc\n",
        "import matplotlib.pyplot as plt\n",
        "import seaborn as sns\n",
        "import plotly.express as px\n",
        "import plotly.graph_objects as go\n",
        "\n",
        "# Set random seed for reproducibility\n",
        "np.random.seed(42)\n",
        "# Configure plots for better visibility\n",
        "plt.rcParams['figure.figsize'] = [10, 6]\n",
        "plt.rcParams['font.size'] = 12\n",
        "\n",
        "thePath = './'  # Adjust this path as necessary\n",
        "theLinkTrain = \"https://dse200.dev/Day3/fraud_training.csv\"\n",
        "theFileTrain = \"fraud_training.csv\"\n",
        "\n",
        "theLinkTest = \"https://dse200.dev/Day3/fraud_test.csv\"\n",
        "theFileTest = \"fraud_test.csv\"\n",
        "\n",
        "\n",
        "if not os.path.exists(thePath + theFileTrain):\n",
        "    r = requests.get(theLinkTrain)\n",
        "    with open(thePath + theFileTrain, 'wb') as f:\n",
        "        f.write(r.content)\n",
        "\n",
        "if not os.path.exists(thePath + theFileTest):\n",
        "    r = requests.get(theLinkTest)\n",
        "    with open(thePath + theFileTest, 'wb') as f:\n",
        "        f.write(r.content)\n"
      ],
      "outputs": [],
      "execution_count": 18
    },
    {
      "cell_type": "markdown",
      "metadata": {
        "id": "CbVr7W5okZ7k"
      },
      "source": [
        "# Part 1: Exploratory Data Analysis (EDA) - 25 points\n",
        "\n",
        "Load the training data and create the following visualizations:\n",
        "\n",
        "1. Required Visualizations (15 points):\n",
        "   - Chart showing fraud vs. non-fraud distribution\n",
        "   - Box plot comparing transaction amounts for fraudulent vs. non-fraudulent cases\n",
        "   - Heatmap showing correlations between numeric features\n",
        "\n",
        "2. Choose TWO from these options (10 points):\n",
        "   - Time series plot of fraud occurrences\n",
        "   - Geographic distribution of fraud cases\n",
        "   - Transaction type analysis\n",
        "   - Merchant risk analysis\n",
        "\n",
        "For each visualization, write 2-3 sentences explaining your insights."
      ]
    },
    {
      "cell_type": "code",
      "metadata": {
        "colab": {
          "base_uri": "https://localhost:8080/",
          "height": 690
        },
        "id": "k9vXVuSykZ7k",
        "outputId": "8a1dc3a8-ed88-4b72-b01f-cbe69fcf9732"
      },
      "source": [
        "# Load the data\n",
        "df_train = pd.read_csv(thePath + theFileTrain)\n",
        "\n",
        "# Display basic information about the dataset\n",
        "print(\"Dataset Shape:\", df_train.shape)\n",
        "print(\"\\nDataset Info:\")\n",
        "df_train.info()\n",
        "print(\"\\nMissing Values:\")\n",
        "print(df_train.isnull().sum())\n",
        "df_train.head(5)"
      ],
      "outputs": [
        {
          "output_type": "stream",
          "name": "stdout",
          "text": [
            "Dataset Shape: (75000, 7)\n",
            "\n",
            "Dataset Info:\n",
            "<class 'pandas.core.frame.DataFrame'>\n",
            "RangeIndex: 75000 entries, 0 to 74999\n",
            "Data columns (total 7 columns):\n",
            " #   Column           Non-Null Count  Dtype  \n",
            "---  ------           --------------  -----  \n",
            " 0   TransactionID    75000 non-null  int64  \n",
            " 1   TransactionDate  75000 non-null  object \n",
            " 2   Amount           75000 non-null  float64\n",
            " 3   MerchantID       75000 non-null  int64  \n",
            " 4   TransactionType  75000 non-null  object \n",
            " 5   Location         75000 non-null  object \n",
            " 6   IsFraud          75000 non-null  int64  \n",
            "dtypes: float64(1), int64(3), object(3)\n",
            "memory usage: 4.0+ MB\n",
            "\n",
            "Missing Values:\n",
            "TransactionID      0\n",
            "TransactionDate    0\n",
            "Amount             0\n",
            "MerchantID         0\n",
            "TransactionType    0\n",
            "Location           0\n",
            "IsFraud            0\n",
            "dtype: int64\n"
          ]
        },
        {
          "output_type": "execute_result",
          "data": {
            "text/plain": [
              "   TransactionID             TransactionDate   Amount  MerchantID  \\\n",
              "0          75722  2024-08-18 01:11:35.918051  4031.22         503   \n",
              "1          80185  2024-06-09 07:44:35.939541  3018.81         378   \n",
              "2          19865  2024-06-10 08:55:35.558368   163.82         406   \n",
              "3          76700  2023-11-12 20:38:35.922125  2548.43         525   \n",
              "4          92992  2024-04-13 02:23:35.997572  3292.04         177   \n",
              "\n",
              "  TransactionType   Location  IsFraud  \n",
              "0          refund    Phoenix        1  \n",
              "1        purchase  San Diego        0  \n",
              "2          refund  San Diego        0  \n",
              "3          refund    Chicago        0  \n",
              "4        purchase    Chicago        0  "
            ],
            "text/html": [
              "\n",
              "  <div id=\"df-97dac4d9-f954-4469-a677-ff12e8833750\" class=\"colab-df-container\">\n",
              "    <div>\n",
              "<style scoped>\n",
              "    .dataframe tbody tr th:only-of-type {\n",
              "        vertical-align: middle;\n",
              "    }\n",
              "\n",
              "    .dataframe tbody tr th {\n",
              "        vertical-align: top;\n",
              "    }\n",
              "\n",
              "    .dataframe thead th {\n",
              "        text-align: right;\n",
              "    }\n",
              "</style>\n",
              "<table border=\"1\" class=\"dataframe\">\n",
              "  <thead>\n",
              "    <tr style=\"text-align: right;\">\n",
              "      <th></th>\n",
              "      <th>TransactionID</th>\n",
              "      <th>TransactionDate</th>\n",
              "      <th>Amount</th>\n",
              "      <th>MerchantID</th>\n",
              "      <th>TransactionType</th>\n",
              "      <th>Location</th>\n",
              "      <th>IsFraud</th>\n",
              "    </tr>\n",
              "  </thead>\n",
              "  <tbody>\n",
              "    <tr>\n",
              "      <th>0</th>\n",
              "      <td>75722</td>\n",
              "      <td>2024-08-18 01:11:35.918051</td>\n",
              "      <td>4031.22</td>\n",
              "      <td>503</td>\n",
              "      <td>refund</td>\n",
              "      <td>Phoenix</td>\n",
              "      <td>1</td>\n",
              "    </tr>\n",
              "    <tr>\n",
              "      <th>1</th>\n",
              "      <td>80185</td>\n",
              "      <td>2024-06-09 07:44:35.939541</td>\n",
              "      <td>3018.81</td>\n",
              "      <td>378</td>\n",
              "      <td>purchase</td>\n",
              "      <td>San Diego</td>\n",
              "      <td>0</td>\n",
              "    </tr>\n",
              "    <tr>\n",
              "      <th>2</th>\n",
              "      <td>19865</td>\n",
              "      <td>2024-06-10 08:55:35.558368</td>\n",
              "      <td>163.82</td>\n",
              "      <td>406</td>\n",
              "      <td>refund</td>\n",
              "      <td>San Diego</td>\n",
              "      <td>0</td>\n",
              "    </tr>\n",
              "    <tr>\n",
              "      <th>3</th>\n",
              "      <td>76700</td>\n",
              "      <td>2023-11-12 20:38:35.922125</td>\n",
              "      <td>2548.43</td>\n",
              "      <td>525</td>\n",
              "      <td>refund</td>\n",
              "      <td>Chicago</td>\n",
              "      <td>0</td>\n",
              "    </tr>\n",
              "    <tr>\n",
              "      <th>4</th>\n",
              "      <td>92992</td>\n",
              "      <td>2024-04-13 02:23:35.997572</td>\n",
              "      <td>3292.04</td>\n",
              "      <td>177</td>\n",
              "      <td>purchase</td>\n",
              "      <td>Chicago</td>\n",
              "      <td>0</td>\n",
              "    </tr>\n",
              "  </tbody>\n",
              "</table>\n",
              "</div>\n",
              "    <div class=\"colab-df-buttons\">\n",
              "\n",
              "  <div class=\"colab-df-container\">\n",
              "    <button class=\"colab-df-convert\" onclick=\"convertToInteractive('df-97dac4d9-f954-4469-a677-ff12e8833750')\"\n",
              "            title=\"Convert this dataframe to an interactive table.\"\n",
              "            style=\"display:none;\">\n",
              "\n",
              "  <svg xmlns=\"http://www.w3.org/2000/svg\" height=\"24px\" viewBox=\"0 -960 960 960\">\n",
              "    <path d=\"M120-120v-720h720v720H120Zm60-500h600v-160H180v160Zm220 220h160v-160H400v160Zm0 220h160v-160H400v160ZM180-400h160v-160H180v160Zm440 0h160v-160H620v160ZM180-180h160v-160H180v160Zm440 0h160v-160H620v160Z\"/>\n",
              "  </svg>\n",
              "    </button>\n",
              "\n",
              "  <style>\n",
              "    .colab-df-container {\n",
              "      display:flex;\n",
              "      gap: 12px;\n",
              "    }\n",
              "\n",
              "    .colab-df-convert {\n",
              "      background-color: #E8F0FE;\n",
              "      border: none;\n",
              "      border-radius: 50%;\n",
              "      cursor: pointer;\n",
              "      display: none;\n",
              "      fill: #1967D2;\n",
              "      height: 32px;\n",
              "      padding: 0 0 0 0;\n",
              "      width: 32px;\n",
              "    }\n",
              "\n",
              "    .colab-df-convert:hover {\n",
              "      background-color: #E2EBFA;\n",
              "      box-shadow: 0px 1px 2px rgba(60, 64, 67, 0.3), 0px 1px 3px 1px rgba(60, 64, 67, 0.15);\n",
              "      fill: #174EA6;\n",
              "    }\n",
              "\n",
              "    .colab-df-buttons div {\n",
              "      margin-bottom: 4px;\n",
              "    }\n",
              "\n",
              "    [theme=dark] .colab-df-convert {\n",
              "      background-color: #3B4455;\n",
              "      fill: #D2E3FC;\n",
              "    }\n",
              "\n",
              "    [theme=dark] .colab-df-convert:hover {\n",
              "      background-color: #434B5C;\n",
              "      box-shadow: 0px 1px 3px 1px rgba(0, 0, 0, 0.15);\n",
              "      filter: drop-shadow(0px 1px 2px rgba(0, 0, 0, 0.3));\n",
              "      fill: #FFFFFF;\n",
              "    }\n",
              "  </style>\n",
              "\n",
              "    <script>\n",
              "      const buttonEl =\n",
              "        document.querySelector('#df-97dac4d9-f954-4469-a677-ff12e8833750 button.colab-df-convert');\n",
              "      buttonEl.style.display =\n",
              "        google.colab.kernel.accessAllowed ? 'block' : 'none';\n",
              "\n",
              "      async function convertToInteractive(key) {\n",
              "        const element = document.querySelector('#df-97dac4d9-f954-4469-a677-ff12e8833750');\n",
              "        const dataTable =\n",
              "          await google.colab.kernel.invokeFunction('convertToInteractive',\n",
              "                                                    [key], {});\n",
              "        if (!dataTable) return;\n",
              "\n",
              "        const docLinkHtml = 'Like what you see? Visit the ' +\n",
              "          '<a target=\"_blank\" href=https://colab.research.google.com/notebooks/data_table.ipynb>data table notebook</a>'\n",
              "          + ' to learn more about interactive tables.';\n",
              "        element.innerHTML = '';\n",
              "        dataTable['output_type'] = 'display_data';\n",
              "        await google.colab.output.renderOutput(dataTable, element);\n",
              "        const docLink = document.createElement('div');\n",
              "        docLink.innerHTML = docLinkHtml;\n",
              "        element.appendChild(docLink);\n",
              "      }\n",
              "    </script>\n",
              "  </div>\n",
              "\n",
              "\n",
              "    <div id=\"df-523ce496-1bed-4883-9e85-c1e34da2733d\">\n",
              "      <button class=\"colab-df-quickchart\" onclick=\"quickchart('df-523ce496-1bed-4883-9e85-c1e34da2733d')\"\n",
              "                title=\"Suggest charts\"\n",
              "                style=\"display:none;\">\n",
              "\n",
              "<svg xmlns=\"http://www.w3.org/2000/svg\" height=\"24px\"viewBox=\"0 0 24 24\"\n",
              "     width=\"24px\">\n",
              "    <g>\n",
              "        <path d=\"M19 3H5c-1.1 0-2 .9-2 2v14c0 1.1.9 2 2 2h14c1.1 0 2-.9 2-2V5c0-1.1-.9-2-2-2zM9 17H7v-7h2v7zm4 0h-2V7h2v10zm4 0h-2v-4h2v4z\"/>\n",
              "    </g>\n",
              "</svg>\n",
              "      </button>\n",
              "\n",
              "<style>\n",
              "  .colab-df-quickchart {\n",
              "      --bg-color: #E8F0FE;\n",
              "      --fill-color: #1967D2;\n",
              "      --hover-bg-color: #E2EBFA;\n",
              "      --hover-fill-color: #174EA6;\n",
              "      --disabled-fill-color: #AAA;\n",
              "      --disabled-bg-color: #DDD;\n",
              "  }\n",
              "\n",
              "  [theme=dark] .colab-df-quickchart {\n",
              "      --bg-color: #3B4455;\n",
              "      --fill-color: #D2E3FC;\n",
              "      --hover-bg-color: #434B5C;\n",
              "      --hover-fill-color: #FFFFFF;\n",
              "      --disabled-bg-color: #3B4455;\n",
              "      --disabled-fill-color: #666;\n",
              "  }\n",
              "\n",
              "  .colab-df-quickchart {\n",
              "    background-color: var(--bg-color);\n",
              "    border: none;\n",
              "    border-radius: 50%;\n",
              "    cursor: pointer;\n",
              "    display: none;\n",
              "    fill: var(--fill-color);\n",
              "    height: 32px;\n",
              "    padding: 0;\n",
              "    width: 32px;\n",
              "  }\n",
              "\n",
              "  .colab-df-quickchart:hover {\n",
              "    background-color: var(--hover-bg-color);\n",
              "    box-shadow: 0 1px 2px rgba(60, 64, 67, 0.3), 0 1px 3px 1px rgba(60, 64, 67, 0.15);\n",
              "    fill: var(--button-hover-fill-color);\n",
              "  }\n",
              "\n",
              "  .colab-df-quickchart-complete:disabled,\n",
              "  .colab-df-quickchart-complete:disabled:hover {\n",
              "    background-color: var(--disabled-bg-color);\n",
              "    fill: var(--disabled-fill-color);\n",
              "    box-shadow: none;\n",
              "  }\n",
              "\n",
              "  .colab-df-spinner {\n",
              "    border: 2px solid var(--fill-color);\n",
              "    border-color: transparent;\n",
              "    border-bottom-color: var(--fill-color);\n",
              "    animation:\n",
              "      spin 1s steps(1) infinite;\n",
              "  }\n",
              "\n",
              "  @keyframes spin {\n",
              "    0% {\n",
              "      border-color: transparent;\n",
              "      border-bottom-color: var(--fill-color);\n",
              "      border-left-color: var(--fill-color);\n",
              "    }\n",
              "    20% {\n",
              "      border-color: transparent;\n",
              "      border-left-color: var(--fill-color);\n",
              "      border-top-color: var(--fill-color);\n",
              "    }\n",
              "    30% {\n",
              "      border-color: transparent;\n",
              "      border-left-color: var(--fill-color);\n",
              "      border-top-color: var(--fill-color);\n",
              "      border-right-color: var(--fill-color);\n",
              "    }\n",
              "    40% {\n",
              "      border-color: transparent;\n",
              "      border-right-color: var(--fill-color);\n",
              "      border-top-color: var(--fill-color);\n",
              "    }\n",
              "    60% {\n",
              "      border-color: transparent;\n",
              "      border-right-color: var(--fill-color);\n",
              "    }\n",
              "    80% {\n",
              "      border-color: transparent;\n",
              "      border-right-color: var(--fill-color);\n",
              "      border-bottom-color: var(--fill-color);\n",
              "    }\n",
              "    90% {\n",
              "      border-color: transparent;\n",
              "      border-bottom-color: var(--fill-color);\n",
              "    }\n",
              "  }\n",
              "</style>\n",
              "\n",
              "      <script>\n",
              "        async function quickchart(key) {\n",
              "          const quickchartButtonEl =\n",
              "            document.querySelector('#' + key + ' button');\n",
              "          quickchartButtonEl.disabled = true;  // To prevent multiple clicks.\n",
              "          quickchartButtonEl.classList.add('colab-df-spinner');\n",
              "          try {\n",
              "            const charts = await google.colab.kernel.invokeFunction(\n",
              "                'suggestCharts', [key], {});\n",
              "          } catch (error) {\n",
              "            console.error('Error during call to suggestCharts:', error);\n",
              "          }\n",
              "          quickchartButtonEl.classList.remove('colab-df-spinner');\n",
              "          quickchartButtonEl.classList.add('colab-df-quickchart-complete');\n",
              "        }\n",
              "        (() => {\n",
              "          let quickchartButtonEl =\n",
              "            document.querySelector('#df-523ce496-1bed-4883-9e85-c1e34da2733d button');\n",
              "          quickchartButtonEl.style.display =\n",
              "            google.colab.kernel.accessAllowed ? 'block' : 'none';\n",
              "        })();\n",
              "      </script>\n",
              "    </div>\n",
              "\n",
              "    </div>\n",
              "  </div>\n"
            ],
            "application/vnd.google.colaboratory.intrinsic+json": {
              "type": "dataframe",
              "variable_name": "df_train",
              "summary": "{\n  \"name\": \"df_train\",\n  \"rows\": 75000,\n  \"fields\": [\n    {\n      \"column\": \"TransactionID\",\n      \"properties\": {\n        \"dtype\": \"number\",\n        \"std\": 28802,\n        \"min\": 1,\n        \"max\": 100000,\n        \"num_unique_values\": 75000,\n        \"samples\": [\n          92550,\n          35652,\n          66683\n        ],\n        \"semantic_type\": \"\",\n        \"description\": \"\"\n      }\n    },\n    {\n      \"column\": \"TransactionDate\",\n      \"properties\": {\n        \"dtype\": \"object\",\n        \"num_unique_values\": 75000,\n        \"samples\": [\n          \"2024-06-07 15:30:35.995710\",\n          \"2024-09-29 07:12:35.651562\",\n          \"2024-07-25 15:14:35.858657\"\n        ],\n        \"semantic_type\": \"\",\n        \"description\": \"\"\n      }\n    },\n    {\n      \"column\": \"Amount\",\n      \"properties\": {\n        \"dtype\": \"number\",\n        \"std\": 1442.9739317540043,\n        \"min\": 1.05,\n        \"max\": 4999.73,\n        \"num_unique_values\": 69677,\n        \"samples\": [\n          735.4,\n          1395.29,\n          3169.18\n        ],\n        \"semantic_type\": \"\",\n        \"description\": \"\"\n      }\n    },\n    {\n      \"column\": \"MerchantID\",\n      \"properties\": {\n        \"dtype\": \"number\",\n        \"std\": 288,\n        \"min\": 1,\n        \"max\": 1000,\n        \"num_unique_values\": 1000,\n        \"samples\": [\n          929,\n          551,\n          144\n        ],\n        \"semantic_type\": \"\",\n        \"description\": \"\"\n      }\n    },\n    {\n      \"column\": \"TransactionType\",\n      \"properties\": {\n        \"dtype\": \"category\",\n        \"num_unique_values\": 2,\n        \"samples\": [\n          \"purchase\",\n          \"refund\"\n        ],\n        \"semantic_type\": \"\",\n        \"description\": \"\"\n      }\n    },\n    {\n      \"column\": \"Location\",\n      \"properties\": {\n        \"dtype\": \"category\",\n        \"num_unique_values\": 10,\n        \"samples\": [\n          \"San Jose\",\n          \"San Diego\"\n        ],\n        \"semantic_type\": \"\",\n        \"description\": \"\"\n      }\n    },\n    {\n      \"column\": \"IsFraud\",\n      \"properties\": {\n        \"dtype\": \"number\",\n        \"std\": 0,\n        \"min\": 0,\n        \"max\": 1,\n        \"num_unique_values\": 2,\n        \"samples\": [\n          0,\n          1\n        ],\n        \"semantic_type\": \"\",\n        \"description\": \"\"\n      }\n    }\n  ]\n}"
            }
          },
          "metadata": {},
          "execution_count": 19
        }
      ],
      "execution_count": 19
    },
    {
      "cell_type": "markdown",
      "source": [
        "### Features\n",
        "1. Purchase Amount <> Refund Amount\n",
        "2. Frequency of MerchantID with IsFarud"
      ],
      "metadata": {
        "id": "8UwHv_pRm6xw"
      }
    },
    {
      "cell_type": "code",
      "metadata": {
        "colab": {
          "base_uri": "https://localhost:8080/",
          "height": 1000
        },
        "id": "M3TViQVakZ7k",
        "outputId": "1cabe30c-6146-4ef6-d9f7-183131b11137"
      },
      "source": [
        "# Required Visualization 1: Fraud Distribution\n",
        "# Create a chart showing the distribution of fraudulent vs non-fraudulent transactions\n",
        "# Your code here\n",
        "df_train['IsFraud'].value_counts().plot(kind='bar')\n",
        "plt.title(\"Fraud vs Non-Fraud Transactions\")\n",
        "plt.xlabel(\"Is Fraud\")\n",
        "plt.ylabel(\"Count\")\n",
        "plt.show()\n",
        "\n",
        "fraud_by_type = (\n",
        "    df_train.groupby('TransactionType')['IsFraud'].mean().sort_values(ascending=False)\n",
        ")\n",
        "plt.title('Average Fraud Rate by Transaction Type')\n",
        "plt.ylabel('Fraud Rate (%)')\n",
        "plt.xlabel('Transaction Type')\n",
        "plt.show()\n"
      ],
      "outputs": [
        {
          "output_type": "display_data",
          "data": {
            "text/plain": [
              "<Figure size 1000x600 with 1 Axes>"
            ],
            "image/png": "[encoded data removed]"
          },
          "metadata": {}
        },
        {
          "output_type": "display_data",
          "data": {
            "text/plain": [
              "<Figure size 1000x600 with 1 Axes>"
            ],
            "image/png": "[encoded data removed]"
          },
          "metadata": {}
        }
      ],
      "execution_count": 39
    },
    {
      "cell_type": "code",
      "metadata": {
        "id": "TjPjdb0rkZ7k"
      },
      "source": [
        "# Required Visualization 2: Transaction Amount Analysis\n",
        "# Create a box plot comparing transaction amounts\n",
        "# Your code here\n"
      ],
      "outputs": [],
      "execution_count": 21
    },
    {
      "cell_type": "code",
      "metadata": {
        "id": "jSWvWDVVkZ7k"
      },
      "source": [
        "# Required Visualization 3: Correlation Heatmap\n",
        "# Create a correlation heatmap for numeric features\n",
        "# Your code here\n"
      ],
      "outputs": [],
      "execution_count": 22
    },
    {
      "cell_type": "code",
      "metadata": {
        "id": "TqX1TriWkZ7l"
      },
      "source": [
        "# Choose two additional visualizations from the options provided\n",
        "# Your code here\n"
      ],
      "outputs": [],
      "execution_count": 23
    },
    {
      "cell_type": "markdown",
      "metadata": {
        "id": "jhpCOPwrkZ7l"
      },
      "source": [
        "# Part 2: Data Preprocessing - 25 points\n",
        "\n",
        "Prepare your data for modeling:\n",
        "\n",
        "1. Handle missing values appropriately (5 points)\n",
        "2. Convert categorical variables (10 points):\n",
        "   - TransactionType\n",
        "   - Location\n",
        "   - Add any creative feature engineering (bonus)\n",
        "3Split your data (5 points)"
      ]
    },
    {
      "cell_type": "code",
      "metadata": {
        "id": "zNZnxa7zkZ7l"
      },
      "source": [
        "# Handle missing values\n",
        "# Your code here\n"
      ],
      "outputs": [],
      "execution_count": 24
    },
    {
      "cell_type": "code",
      "metadata": {
        "id": "2jWREhKPkZ7l"
      },
      "source": [
        "# Convert categorical variables\n",
        "# Your code here\n"
      ],
      "outputs": [],
      "execution_count": 25
    },
    {
      "cell_type": "code",
      "metadata": {
        "id": "HMMLfBx-kZ7l"
      },
      "source": [
        "# split data\n",
        "# Your code here\n"
      ],
      "outputs": [],
      "execution_count": 26
    },
    {
      "cell_type": "markdown",
      "metadata": {
        "id": "0dvDmrPMkZ7m"
      },
      "source": [
        "# Part 3: Model Building & Evaluation - 25 points\n",
        "\n",
        "Build and evaluate your fraud detection model:\n",
        "\n",
        "1. Train at least one model (Start with Logistic Regression) - 15 points\n",
        "2. Create these visualizations:\n",
        "   - ROC curve\n",
        "   - Confusion matrix heatmap\n",
        "   - Feature importance plot\n",
        "3. Print classification report\n",
        "4. Evaluate the model, look at the data precision and recall for fraud (1) are you getting good predictions? If not why? Make sure to fix before heading to next part"
      ]
    },
    {
      "cell_type": "code",
      "metadata": {
        "id": "nb5HBmxXkZ7m"
      },
      "source": [
        "# Train your model(s)\n",
        "# Your code here\n"
      ],
      "outputs": [],
      "execution_count": 27
    },
    {
      "cell_type": "code",
      "metadata": {
        "id": "BGbMo7dakZ7m"
      },
      "source": [
        "# Create evaluation visualizations\n",
        "# Your code here\n"
      ],
      "outputs": [],
      "execution_count": 28
    },
    {
      "cell_type": "markdown",
      "metadata": {
        "id": "bQ7lePJrkZ7m"
      },
      "source": [
        "# Part 4: Making Predictions - 25 points\n",
        "\n",
        "1. Load and preprocess the test data\n",
        "2. Make predictions\n",
        "3. Save results in the correct format\n",
        "4. Document your code"
      ]
    },
    {
      "cell_type": "code",
      "metadata": {
        "id": "mCFGq29pkZ7m"
      },
      "source": [
        "# Load and preprocess test data\n",
        "# Your code here\n"
      ],
      "outputs": [],
      "execution_count": 29
    },
    {
      "cell_type": "code",
      "metadata": {
        "id": "_83TeqJYkZ7m"
      },
      "source": [
        "# Make and save predictions\n",
        "# Your code here\n"
      ],
      "outputs": [],
      "execution_count": 30
    },
    {
      "cell_type": "markdown",
      "metadata": {
        "id": "fCM69pjQkZ7m"
      },
      "source": [
        "# Bonus Section (10 points)\n",
        "\n",
        "Choose at least one:\n",
        "1. Feature Engineering: Create meaningful new features\n",
        "2. Model Comparison: Compare at least 3 different models\n",
        "3. Advanced Visualization: Create an interactive dashboard using Plotly"
      ]
    },
    {
      "cell_type": "code",
      "metadata": {
        "id": "b-HjIyGTkZ7m"
      },
      "source": [
        "# Bonus work\n",
        "# Your code here\n"
      ],
      "outputs": [],
      "execution_count": 31
    }
  ],
  "metadata": {
    "kernelspec": {
      "display_name": "Python 3",
      "language": "python",
      "name": "python3"
    },
    "language_info": {
      "codemirror_mode": {
        "name": "ipython",
        "version": 3
      },
      "file_extension": ".py",
      "mimetype": "text/x-python",
      "name": "python",
      "nbconvert_exporter": "python",
      "pygments_lexer": "ipython3",
      "version": "3.8.0"
    },
    "colab": {
      "provenance": []
    }
  },
  "nbformat": 4,
  "nbformat_minor": 0
}